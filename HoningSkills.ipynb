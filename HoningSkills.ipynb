{
 "cells": [
  {
   "cell_type": "markdown",
   "metadata": {},
   "source": [
    "# Honing Skills"
   ]
  },
  {
   "cell_type": "markdown",
   "metadata": {},
   "source": [
    "## QuTiP"
   ]
  },
  {
   "cell_type": "code",
   "execution_count": 8,
   "metadata": {
    "collapsed": false
   },
   "outputs": [],
   "source": [
    "from qutip import *\n",
    "from numpy import *"
   ]
  },
  {
   "cell_type": "code",
   "execution_count": 23,
   "metadata": {
    "collapsed": true
   },
   "outputs": [],
   "source": [
    "import numpy as np\n",
    "import matplotlib as mpl; import matplotlib.pyplot as plt\n",
    "%matplotlib inline\n",
    "import os; import pickle\n",
    "#import sympy\n",
    "#import scipy\n",
    "#from scipy import special"
   ]
  },
  {
   "cell_type": "code",
   "execution_count": 11,
   "metadata": {
    "collapsed": false
   },
   "outputs": [],
   "source": [
    "g =1.0*2*pi # coupling strength\n",
    "g1 = 0.75 # relaxation rate\n",
    "g2 = 0.05 # dephasing rate\n",
    "n_th = 0.75 # bath avg. thermal excitations\n",
    "T = pi/(4*g) # gate period"
   ]
  },
  {
   "cell_type": "code",
   "execution_count": 13,
   "metadata": {
    "collapsed": false
   },
   "outputs": [],
   "source": [
    "# construct Hamiltonian\n",
    "H = g * (tensor(sigmax(), sigmax()) + \n",
    "         tensor(sigmay(), sigmay()))\n",
    "# construct inital state\n",
    "psi0 = tensor(basis(2,1), basis(2,0))\n",
    "# construct collapse operators\n",
    "c_ops = []\n",
    "## qubit 1 collapse operators\n",
    "sm1 = tensor(sigmam(), qeye(2))\n",
    "sz1 = tensor(sigmaz(), qeye(2))\n",
    "c_ops.append(sqrt(g1 * (1+n_th)) * sm1)\n",
    "c_ops.append(sqrt(g1 * n_th) * sm1.dag())\n",
    "c_ops.append(sqrt(g2) * sz1)\n",
    "## qubit 2 collapse operators\n",
    "sm2 = tensor(qeye(2), sigmam())\n",
    "sz2 = tensor(qeye(2), sigmaz())\n",
    "c_ops.append(sqrt(g1 * (1+n_th)) * sm2)\n",
    "c_ops.append(sqrt(g1 * n_th) * sm2.dag())\n",
    "c_ops.append(sqrt(g2) * sz2)"
   ]
  },
  {
   "cell_type": "code",
   "execution_count": 14,
   "metadata": {
    "collapsed": true
   },
   "outputs": [],
   "source": [
    "# evolve the dissipative system\n",
    "tlist = linspace(0, T, 100)\n",
    "medata  = mesolve(H, psi0, tlist, c_ops, [])"
   ]
  },
  {
   "cell_type": "code",
   "execution_count": 15,
   "metadata": {
    "collapsed": true
   },
   "outputs": [],
   "source": [
    "## NEW API CALL ##\n",
    "# extract density matrices from Odedata object\n",
    "rho_list = medata.states"
   ]
  },
  {
   "cell_type": "code",
   "execution_count": 16,
   "metadata": {
    "collapsed": true
   },
   "outputs": [],
   "source": [
    "# get final density matrix for fidelity comparison\n",
    "rho_final = rho_list[-1]\n",
    "# calculate expectation values\n",
    "n1 = expect(sm1.dag() * sm1, rho_list)\n",
    "n2 = expect(sm2.dag() * sm2, rho_list)\n",
    "# calculate the ideal evolution\n",
    "medata_ideal = mesolve(H, psi0, tlist, [], [])"
   ]
  },
  {
   "cell_type": "code",
   "execution_count": 17,
   "metadata": {
    "collapsed": true
   },
   "outputs": [],
   "source": [
    "## NEW API CALL ##\n",
    "# extract states from Odedata object\n",
    "psi_list = medata_ideal.states\n"
   ]
  },
  {
   "cell_type": "code",
   "execution_count": 18,
   "metadata": {
    "collapsed": true
   },
   "outputs": [],
   "source": [
    "# calculate expectation values\n",
    "n1_ideal = expect(sm1.dag() * sm1, psi_list)\n",
    "n2_ideal = expect(sm2.dag() * sm2, psi_list)\n",
    "# get last ket vector for comparison\n",
    "psi_ideal = psi_list[-1]\n",
    "# output is ket since no collapse operators.\n",
    "rho_ideal = ket2dm(psi_ideal)\n"
   ]
  },
  {
   "cell_type": "code",
   "execution_count": 19,
   "metadata": {
    "collapsed": true
   },
   "outputs": [],
   "source": [
    "# calculate the fidelity of final states\n",
    "F = fidelity(rho_ideal, rho_final)"
   ]
  },
  {
   "cell_type": "code",
   "execution_count": 32,
   "metadata": {
    "collapsed": false
   },
   "outputs": [
    {
     "data": {
      "text/latex": [
       "Quantum object: dims = [[2, 2], [2, 2]], shape = (4, 4), type = oper, isherm = True\\begin{equation*}\\left(\\begin{array}{*{11}c}0.054 & 0.0 & 0.0 & 0.0\\\\0.0 & 0.795 & -9.887\\times10^{-06}j & 0.0\\\\0.0 & 9.887\\times10^{-06}j & 0.014 & 0.0\\\\0.0 & 0.0 & 0.0 & 0.137\\\\\\end{array}\\right)\\end{equation*}"
      ],
      "text/plain": [
       "Quantum object: dims = [[2, 2], [2, 2]], shape = (4, 4), type = oper, isherm = True\n",
       "Qobj data =\n",
       "[[ 0.05351317 +0.00000000e+00j  0.00000000 +0.00000000e+00j\n",
       "   0.00000000 +0.00000000e+00j  0.00000000 +0.00000000e+00j]\n",
       " [ 0.00000000 +0.00000000e+00j  0.79531678 +0.00000000e+00j\n",
       "   0.00000000 -9.88650146e-06j  0.00000000 +0.00000000e+00j]\n",
       " [ 0.00000000 +0.00000000e+00j  0.00000000 +9.88650146e-06j\n",
       "   0.01408292 +0.00000000e+00j  0.00000000 +0.00000000e+00j]\n",
       " [ 0.00000000 +0.00000000e+00j  0.00000000 +0.00000000e+00j\n",
       "   0.00000000 +0.00000000e+00j  0.13708713 +0.00000000e+00j]]"
      ]
     },
     "execution_count": 32,
     "metadata": {},
     "output_type": "execute_result"
    }
   ],
   "source": [
    "rho_list[-1]"
   ]
  },
  {
   "cell_type": "code",
   "execution_count": 38,
   "metadata": {
    "collapsed": false
   },
   "outputs": [
    {
     "data": {
      "image/png": "[encoded data removed]",
      "text/plain": [
       "<matplotlib.figure.Figure at 0x110e7a358>"
      ]
     },
     "metadata": {},
     "output_type": "display_data"
    }
   ],
   "source": [
    "plt.figure()\n",
    "plt.plot(tlist,n1_ideal,label='n1_ideal')\n",
    "plt.plot(tlist,n2_ideal,label='n2_ideal')\n",
    "plt.plot(tlist,n1,label='n1')\n",
    "plt.plot(tlist,n2,label='n2')\n",
    "plt.legend()\n",
    "plt.xlabel('t')\n",
    "plt.ylabel('F')\n",
    "plt.show()"
   ]
  }
 ],
 "metadata": {
  "anaconda-cloud": {},
  "kernelspec": {
   "display_name": "Python 2",
   "language": "python",
   "name": "python2"
  },
  "language_info": {
   "codemirror_mode": {
    "name": "ipython",
    "version": 2
   },
   "file_extension": ".py",
   "mimetype": "text/x-python",
   "name": "python",
   "nbconvert_exporter": "python",
   "pygments_lexer": "ipython2",
   "version": "2.7.12"
  }
 },
 "nbformat": 4,
 "nbformat_minor": 1
}
