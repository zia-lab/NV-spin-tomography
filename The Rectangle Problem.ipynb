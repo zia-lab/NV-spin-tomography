{
 "cells": [
  {
   "cell_type": "markdown",
   "metadata": {},
   "source": [
    "# Given a point (x,y) to determine if it's inside of any of the rectangles in a given set"
   ]
  },
  {
   "cell_type": "code",
   "execution_count": 100,
   "metadata": {
    "collapsed": false
   },
   "outputs": [],
   "source": [
    "import numpy as np\n",
    "import matplotlib as mpl; import matplotlib.pyplot as plt\n",
    "%matplotlib inline\n",
    "import os; import pickle\n",
    "#import sympy\n",
    "#import scipy\n",
    "#from scipy import special\n",
    "#%%line_profiler\n",
    "%load_ext line_profiler"
   ]
  },
  {
   "cell_type": "code",
   "execution_count": 262,
   "metadata": {
    "collapsed": false
   },
   "outputs": [],
   "source": [
    "# First consider squares\n",
    "# Only the centers of the squares are listed\n",
    "# Would you consider overlaps?\n",
    "xmin = 1.\n",
    "xmax = 2.\n",
    "ymin = 1.\n",
    "ymax = 2.\n",
    "num_squares = 1000000\n",
    "squares = np.array(zip(np.random.uniform(xmin,xmax,num_squares),(np.random.uniform(ymin,ymax,num_squares))))\n",
    "dx = 0.1\n",
    "dy = 0.1"
   ]
  },
  {
   "cell_type": "code",
   "execution_count": 263,
   "metadata": {
    "collapsed": true
   },
   "outputs": [],
   "source": [
    "# naive approach\n",
    "def find_good_boxes(point, boxes, dx, dy):\n",
    "    #repeated_point = np.repeat(point, len(squares),axis=0)\n",
    "    differences = np.abs(squares - point)\n",
    "    return squares[(differences[:,0] < dx) & (differences[:,1] < dy)]"
   ]
  },
  {
   "cell_type": "code",
   "execution_count": 264,
   "metadata": {
    "collapsed": true
   },
   "outputs": [],
   "source": [
    "point = np.random.uniform(1,2,(1,2))"
   ]
  },
  {
   "cell_type": "code",
   "execution_count": 265,
   "metadata": {
    "collapsed": false
   },
   "outputs": [],
   "source": [
    "point = np.random.uniform(1,2,(1,2))\n",
    "%lprun -f find_good_boxes good_boxes = find_good_boxes(point, squares, dx, dy)\n",
    "#good_boxes = find_good_boxes(point, squares, dx, dy)"
   ]
  },
  {
   "cell_type": "code",
   "execution_count": 247,
   "metadata": {
    "collapsed": false
   },
   "outputs": [
    {
     "data": {
      "text/plain": [
       "array([[ 1.79282752,  1.75600725]])"
      ]
     },
     "execution_count": 247,
     "metadata": {},
     "output_type": "execute_result"
    }
   ],
   "source": [
    "point"
   ]
  },
  {
   "cell_type": "code",
   "execution_count": 248,
   "metadata": {
    "collapsed": false
   },
   "outputs": [],
   "source": [
    "#point = np.repeat(np.random.uniform(1,2,(1,2)),len(squares),axis=0)\n",
    "differences = point - squares\n",
    "good_squares=squares[(np.abs(differences[:,0]) < dx) & (np.abs(differences[:,1]) < dy)]"
   ]
  },
  {
   "cell_type": "code",
   "execution_count": 249,
   "metadata": {
    "collapsed": false
   },
   "outputs": [
    {
     "data": {
      "text/plain": [
       "4014"
      ]
     },
     "execution_count": 249,
     "metadata": {},
     "output_type": "execute_result"
    }
   ],
   "source": [
    "len(good_boxes)"
   ]
  },
  {
   "cell_type": "code",
   "execution_count": 250,
   "metadata": {
    "collapsed": false
   },
   "outputs": [
    {
     "data": {
      "image/png": "[encoded data removed]",
      "text/plain": [
       "<matplotlib.figure.Figure at 0x10f95ec10>"
      ]
     },
     "metadata": {},
     "output_type": "display_data"
    }
   ],
   "source": [
    "plt.figure(figsize=(7,7))\n",
    "plt.scatter(squares[:,0],squares[:,1],lw=0)\n",
    "try:\n",
    "    plt.scatter(good_boxes[:,0],good_boxes[:,1],lw=0,color='red')\n",
    "except:\n",
    "    pass\n",
    "plt.scatter(point[0][0],point[0][1],color='black')\n",
    "plt.xlim(xmin,xmax)\n",
    "plt.ylim(ymin,ymax)\n",
    "plt.show()"
   ]
  },
  {
   "cell_type": "code",
   "execution_count": 266,
   "metadata": {
    "collapsed": false
   },
   "outputs": [
    {
     "data": {
      "image/png": "[encoded data removed]",
      "text/plain": [
       "<matplotlib.figure.Figure at 0x10ff6c690>"
      ]
     },
     "metadata": {},
     "output_type": "display_data"
    }
   ],
   "source": [
    "performance = np.transpose(np.array([[10,100,1000,10000,100000,1000000],[7.3e-05,7.5e-5,0.00014,0.000641,0.004898,0.051696]]))\n",
    "plt.figure()\n",
    "plt.plot(performance[:,0],10.**6*performance[:,1],'o-')\n",
    "plt.xlim(0,max(performance[:,0]))\n",
    "plt.ylim(0,10.**6*max(performance[:,1]))\n",
    "plt.xlabel('N')\n",
    "plt.ylabel('t/$\\mu$s')\n",
    "plt.show()"
   ]
  },
  {
   "cell_type": "code",
   "execution_count": 260,
   "metadata": {
    "collapsed": true
   },
   "outputs": [],
   "source": [
    "import itertools\n",
    "lst = list(itertools.product([-1, 1], repeat=4))\n"
   ]
  },
  {
   "cell_type": "code",
   "execution_count": 261,
   "metadata": {
    "collapsed": false
   },
   "outputs": [
    {
     "data": {
      "text/plain": [
       "16"
      ]
     },
     "execution_count": 261,
     "metadata": {},
     "output_type": "execute_result"
    }
   ],
   "source": [
    "len(np.array(lst))"
   ]
  },
  {
   "cell_type": "code",
   "execution_count": null,
   "metadata": {
    "collapsed": true
   },
   "outputs": [],
   "source": []
  }
 ],
 "metadata": {
  "kernelspec": {
   "display_name": "Python [conda env:python2]",
   "language": "python",
   "name": "conda-env-python2-py"
  },
  "language_info": {
   "codemirror_mode": {
    "name": "ipython",
    "version": 2
   },
   "file_extension": ".py",
   "mimetype": "text/x-python",
   "name": "python",
   "nbconvert_exporter": "python",
   "pygments_lexer": "ipython2",
   "version": "2.7.13"
  }
 },
 "nbformat": 4,
 "nbformat_minor": 2
}
