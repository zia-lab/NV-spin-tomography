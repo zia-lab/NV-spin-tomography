{
 "cells": [
  {
   "cell_type": "markdown",
   "metadata": {},
   "source": [
    "# Code optimizations"
   ]
  },
  {
   "cell_type": "code",
   "execution_count": 54,
   "metadata": {
    "collapsed": true
   },
   "outputs": [],
   "source": [
    "import numpy as np\n",
    "import matplotlib as mpl; import matplotlib.pyplot as plt\n",
    "%matplotlib inline\n",
    "import os; import pickle\n",
    "#import sympy\n",
    "#import scipy\n",
    "#from scipy import special"
   ]
  },
  {
   "cell_type": "code",
   "execution_count": 1,
   "metadata": {
    "collapsed": true
   },
   "outputs": [],
   "source": [
    "#import NV_generator\n",
    "%load_ext line_profiler"
   ]
  },
  {
   "cell_type": "code",
   "execution_count": 2,
   "metadata": {
    "collapsed": true
   },
   "outputs": [],
   "source": [
    "# %load NV_generator.py\n",
    "# NV-spin-tomography Michael Scheer mgscheer@gmail.com\n",
    "\n",
    "# generating random NV centers\n",
    "\n",
    "import numpy as np\n",
    "import itertools\n",
    "\n",
    "# For explanation of the formulas used here, see chapter 2 of thesis.\n",
    "\n",
    "# Constants\n",
    "# lattice constant of diamond\n",
    "a0 = 3.567 * 10 ** (-10) # in meters\n",
    "# Hyperfine coupling related constants\n",
    "gam_el = -1.760859 * 10 ** 11 # Gyromagnetic ratio for a single electron in rad s-1 T-1\n",
    "gam_n = 67.262 * 10 ** 6 # Gyromagnetic ratio for a single c13 nucleus in rad s-1 T-1\n",
    "hbar = 1.05457173 * 10 ** (-34)\n",
    "pi = np.pi\n",
    "h = hbar * 2 * pi\n",
    "mu0 = 4 * pi * 10 ** (-7)\n",
    "\n",
    "# Carbon Lattice Definition\n",
    "# Basis vectors\n",
    "# i, j, k are basis vectors of Face Centered Cubic Bravais lattice\n",
    "i = a0/2*np.array([0,1,1])\n",
    "j = a0/2*np.array([1,0,1])\n",
    "k = a0/2*np.array([1,1,0])\n",
    "# a and b are the relative positions of the nitrogen and vacancy\n",
    "a = np.array([0,0,0])\n",
    "b = a0/4*np.array([1,1,1])\n",
    "# rotate all the vectors so that the symmetry axis (b) of the NV center is along the z direction\n",
    "# rotation around z axis by pi/4 puts b in yz plane\n",
    "Rz = np.array([[np.cos(pi/4),-np.sin(pi/4),0],[np.sin(pi/4),np.cos(pi/4),0],[0,0,1]])\n",
    "sqrt2angle = np.arctan(np.sqrt(2))\n",
    "# rotation around x axis by sqrt2angle moves b from yz plane to z axis\n",
    "Rx = np.array([[1,0,0],[0,np.cos(sqrt2angle),-np.sin(sqrt2angle)],[0,np.sin(sqrt2angle),np.cos(sqrt2angle)]])\n",
    "b = Rx.dot(Rz).dot(b)\n",
    "i = Rx.dot(Rz).dot(i)\n",
    "j = Rx.dot(Rz).dot(j)\n",
    "k = Rx.dot(Rz).dot(k)\n",
    "\n",
    "hyperfine_prefactor = -1 * mu0 * gam_el * gam_n * hbar/(4 * pi) # Only one hbar instead of hbar ** 2 since we convert to angular frequency units in the hamiltonian.\n",
    "\n",
    "# Takes Carbon Concentration, and gridsize (N) as inputs\n",
    "# Returns a list of 2D numpy arrays with hyperfine couplings of c13 nuclei to the NV center in angular frequency Hz\n",
    "# If sphere is true the c13 nuclei inside a sphere are returned instead of those inside a cube.\t\n",
    "def generate_NV(c13_concentration=0.011,N=25,sphere = True):\n",
    "\t# define position of NV in middle of the grid\n",
    "\tcenter = round(N/2)\n",
    "\tNVPos = center * i + center * j + center * k\n",
    "\n",
    "\tspin_list = []\n",
    "\t#Calculate hyperfine strength for all gridpoints\n",
    "\tfor n, m, l in itertools.product(range(N), repeat = 3):\n",
    "\t\tif (n,m,l) != (center, center, center): # all lattice pairs except the nitrogen and vacancy\n",
    "\t\t\tlattice_position = n * i + m * j + l * k - NVPos # relative position of a lattice point to the NV center\n",
    "\t\t\tfor pos in [lattice_position, lattice_position + b]: # the two lattice positions at this grid location\n",
    "\t\t\t\tx, y, z = pos\n",
    "\t\t\t\tr = np.sqrt(pos.dot(pos))\n",
    "\t\t\t\tcostheta = z/r\n",
    "\t\t\t\tsintheta = np.sqrt(x ** 2 + y ** 2)/r\n",
    "\t\t\t\tA = hyperfine_prefactor * (3 * costheta ** 2 - 1)/(r ** 3)\n",
    "\t\t\t\tB = hyperfine_prefactor * 3 * costheta * sintheta /(r ** 3)\n",
    "\t\t\t\tspin_list.append((r, A, B, costheta, sintheta))\n",
    "\n",
    "\tif sphere:\n",
    "\t\tspin_list.sort() # sort by r value from smallest to largest\n",
    "\t\tspin_list = spin_list[:len(spin_list)/2] # keep the closest half of the spins\n",
    "\n",
    "\t# for each lattice point, let it be a c13 with probability c13_concentration \n",
    "\tc13_inds = np.where(np.random.rand(len(spin_list))<c13_concentration)[0]\n",
    "\tc13_spins = np.array(spin_list)[c13_inds]\n",
    "\tr, A, B, costheta, sintheta = zip(*c13_spins)\n",
    "\treturn np.array(A), np.array(B), np.array(r), np.array(costheta), np.array(sintheta)\n",
    "\n",
    "# Generates C13s near a NV center. The number of C13s is roughly num_spins if N==None.\n",
    "# If enforce_bound = True, the random generation will repeat until there are no couplings greater than coupling_bound.\n",
    "def generate_spins(num_spins, enforce_bound = True, coupling_bound = 150 * 2 * pi * 1e3, c13_concentration = 0.011, N = None, abs_val = False, verbose = False):\n",
    "\tif N == None:\n",
    "\t\tN = int(np.ceil(((num_spins*1.0)/c13_concentration) ** (1.0/3)))\n",
    "\tif verbose:\n",
    "\t\tprint \"N:\", N\n",
    "\tA, B, r, costheta, sintheta = generate_NV(N = N, c13_concentration = c13_concentration)\n",
    "\twhile enforce_bound and (np.any(A ** 2 + B ** 2 > (coupling_bound) ** 2)):\n",
    "\t\tA, B, r, costheta, sintheta = generate_NV(N = N, c13_concentration = c13_concentration)\n",
    "\tif abs_val:\n",
    "\t\tB = np.abs(B)\n",
    "\treturn A, B, r, costheta, sintheta\n"
   ]
  },
  {
   "cell_type": "code",
   "execution_count": 6,
   "metadata": {
    "collapsed": false
   },
   "outputs": [],
   "source": [
    "%lprun -f generate_spins spins = generate_spins(450)"
   ]
  },
  {
   "cell_type": "markdown",
   "metadata": {},
   "source": [
    "# It takes around 2 seconds to generate the set with (A,B) for 450 spins\n",
    "\n",
    "Timer unit: 1e-06 s\n",
    "\n",
    "Total time: 16.9578 s\n",
    "File: <ipython-input-2-a9d54bd61d56>\n",
    "Function: generate_spins at line 78\n",
    "\n",
    "Line \\#      Hits         Time  Per Hit   % Time  Line Contents\n",
    "==============================================================\n",
    "    78                                           def generate_spins(num_spins, enforce_bound = True, coupling_bound = 150 * 2 * pi * 1e3, c13_concentration = 0.011, N = None, abs_val = False, verbose = False):\n",
    "    79         1            2      2.0      0.0  \tif N == None:\n",
    "    80         1           40     40.0      0.0  \t\tN = int(np.ceil(((num_spins*1.0)/c13_concentration) ** (1.0/3)))\n",
    "    81         1            1      1.0      0.0  \tif verbose:\n",
    "    82                                           \t\tprint \"N:\", N\n",
    "    83         1      2159591 2159591.0     12.7  \tA, B, r, costheta, sintheta = generate_NV(N = N, c13_concentration = c13_concentration)\n",
    "    84         8         1051    131.4      0.0  \twhile enforce_bound and (np.any(A ** 2 + B ** 2 > (coupling_bound) ** 2)):\n",
    "    85         7     14797100 2113871.4     87.3  \t\tA, B, r, costheta, sintheta = generate_NV(N = N, c13_concentration = c13_concentration)\n",
    "    86         1            1      1.0      0.0  \tif abs_val:\n",
    "    87                                           \t\tB = np.abs(B)\n",
    "    88         1            1      1.0      0.0  \treturn A, B, r, costheta, sintheta"
   ]
  },
  {
   "cell_type": "code",
   "execution_count": 12,
   "metadata": {
    "collapsed": false
   },
   "outputs": [
    {
     "name": "stdout",
     "output_type": "stream",
     "text": [
      "35\n"
     ]
    }
   ],
   "source": [
    "N = int(np.ceil(((450*1.0)/0.011) ** (1.0/3)))\n",
    "print(N)"
   ]
  },
  {
   "cell_type": "code",
   "execution_count": 10,
   "metadata": {
    "collapsed": false
   },
   "outputs": [],
   "source": [
    "spins_NV = generate_NV(N=N)"
   ]
  },
  {
   "cell_type": "code",
   "execution_count": 11,
   "metadata": {
    "collapsed": true
   },
   "outputs": [],
   "source": [
    "%lprun -f generate_NV spins_NV = generate_NV(N=N)"
   ]
  },
  {
   "cell_type": "markdown",
   "metadata": {},
   "source": [
    "Timer unit: 1e-06 s\n",
    "\n",
    "Total time: 2.60855 s\n",
    "File: <ipython-input-2-a9d54bd61d56>\n",
    "Function: generate_NV at line 47\n",
    "\n",
    "Line #      Hits         Time  Per Hit   % Time  Line Contents\n",
    "==============================================================\n",
    "    47                                           def generate_NV(c13_concentration=0.011,N=25,sphere = True):\n",
    "    48                                           \t# define position of NV in middle of the grid\n",
    "    49         1            6      6.0      0.0  \tcenter = round(N/2)\n",
    "    50         1           32     32.0      0.0  \tNVPos = center * i + center * j + center * k\n",
    "    51                                           \n",
    "    52         1            1      1.0      0.0  \tspin_list = []\n",
    "    53                                           \t#Calculate hyperfine strength for all gridpoints\n",
    "    54     42876        43390      1.0      1.7  \tfor n, m, l in itertools.product(range(N), repeat = 3):\n",
    "    55     42875        56643      1.3      2.2  \t\tif (n,m,l) != (center, center, center): # all lattice pairs except the nitrogen and vacancy\n",
    "    56     42874       454674     10.6     17.4  \t\t\tlattice_position = n * i + m * j + l * k - NVPos # relative position of a lattice point to the NV center\n",
    "    57    128622       196505      1.5      7.5  \t\t\tfor pos in [lattice_position, lattice_position + b]: # the two lattice positions at this grid location\n",
    "    58     85748       307066      3.6     11.8  \t\t\t\tx, y, z = pos\n",
    "    59     85748       445021      5.2     17.1  \t\t\t\tr = np.sqrt(pos.dot(pos))\n",
    "    60     85748       101318      1.2      3.9  \t\t\t\tcostheta = z/r\n",
    "    61     85748       309047      3.6     11.8  \t\t\t\tsintheta = np.sqrt(x ** 2 + y ** 2)/r\n",
    "    62     85748       213028      2.5      8.2  \t\t\t\tA = hyperfine_prefactor * (3 * costheta ** 2 - 1)/(r ** 3)\n",
    "    63     85748       139633      1.6      5.4  \t\t\t\tB = hyperfine_prefactor * 3 * costheta * sintheta /(r ** 3)\n",
    "    64     85748       116701      1.4      4.5  \t\t\t\tspin_list.append((r, A, B, costheta, sintheta))\n",
    "    65                                           \n",
    "    66         1            1      1.0      0.0  \tif sphere:\n",
    "    67         1       164342 164342.0      6.3  \t\tspin_list.sort() # sort by r value from smallest to largest\n",
    "    68         1        12740  12740.0      0.5  \t\tspin_list = spin_list[:len(spin_list)/2] # keep the closest half of the spins\n",
    "    69                                           \n",
    "    70                                           \t# for each lattice point, let it be a c13 with probability c13_concentration \n",
    "    71         1          852    852.0      0.0  \tc13_inds = np.where(np.random.rand(len(spin_list))<c13_concentration)[0]\n",
    "    72         1        47060  47060.0      1.8  \tc13_spins = np.array(spin_list)[c13_inds]\n",
    "    73         1          300    300.0      0.0  \tr, A, B, costheta, sintheta = zip(*c13_spins)\n",
    "    74         1          195    195.0      0.0  \treturn np.array(A), np.array(B), np.array(r), np.array(costheta), np.array(sintheta)"
   ]
  },
  {
   "cell_type": "markdown",
   "metadata": {},
   "source": [
    "Analysis of create_diamonds"
   ]
  },
  {
   "cell_type": "code",
   "execution_count": 14,
   "metadata": {
    "collapsed": true
   },
   "outputs": [],
   "source": [
    "# %load learning.py\n",
    "# NV-spin-tomography Michael Scheer mgscheer@gmail.com\n",
    "\n",
    "# Creating datasets and training classifiers, storing objects on disk\n",
    "\n",
    "import numpy as np\n",
    "import sklearn as sk\n",
    "from sklearn import svm, preprocessing, cross_validation, cluster, metrics\n",
    "from sklearn.ensemble import ExtraTreesClassifier\n",
    "from sklearn.externals import joblib\n",
    "import analysis\n",
    "import NV_generator\n",
    "import pickle\n",
    "\n",
    "# store an object in a file\n",
    "def store_obj(obj, fname):\n",
    "\tjoblib.dump(obj, fname + \".pkl\")\n",
    "\n",
    "def store_obj_2(obj, fname):\n",
    "\tpickle.dump(obj, open(fname + \".pkl\",'wb'))\n",
    "\n",
    "# load an object from a file\n",
    "def load_obj(fname):\n",
    "\treturn joblib.load(fname + \".pkl\")\n",
    "\n",
    "def load_obj_2(fname):\n",
    "\treturn pickle.load(open(fname + \".pkl\",'rb'))\n",
    "\n",
    "# decides if a fitted A and B are close enough to a spin to be counted as a fit.\n",
    "# the B tends to be harder to fit so the accuracy demanded is less.\n",
    "def is_fit(fitted_A, fitted_B, spin, A_acc = .1, B_acc = .5):\n",
    "\tA_acc = analysis.mag * A_acc\n",
    "\tB_acc= analysis.mag * B_acc\n",
    "\treturn ((spin[0] >= fitted_A - A_acc) and (spin[0] <= fitted_A + A_acc) and\n",
    "\t\t(spin[1] >= fitted_B - B_acc) and (spin[1] <= fitted_B + B_acc))\n",
    "\n",
    "# creates a dataset of diamonds with N measurements already analyzed, saves it to disk\n",
    "def create_diamonds(diamond_num_list, omega_larmor, num_spins = 450):\n",
    "\tverbose, plots = False, False\n",
    "\tnum_subsets = 4\n",
    "\terror_fun = analysis.squared_error\n",
    "\terror_tol = .1/64\n",
    "\tN = 64\n",
    "\tN_vals = np.arange(0, 256, 2)\n",
    "\ttau = analysis.choose_tau_params(N)\n",
    "\tfor diamond_num in diamond_num_list:\n",
    "\t\tprint \"diamond_num: \", diamond_num\n",
    "\t\tA, B, r, costheta, sintheta = NV_generator.generate_spins(num_spins)\n",
    "\t\tdef data_func(N, tau, noise_level = .02):\n",
    "\t\t\tdata = analysis.calc_M(A, B, N, omega_larmor, tau)\n",
    "\t\t\tnoise = np.random.randn(len(data)) * noise_level\n",
    "\t\t\treturn data + noise\n",
    "\t\tdata = data_func(N, tau)\n",
    "\t\tdip_inds, windows = analysis.find_resonances(data, fit_dips_below = None)\n",
    "\t\tsuccessful_fits, good_fits, phis_list, xs_list, scaled_errors = [], [], [], [], []\n",
    "\t\tprint \"number of dips: \", len(dip_inds)\n",
    "\t\tfor dii in range(len(dip_inds)):\n",
    "\t\t\tif dii%50==0:\n",
    "\t\t\t\tprint \"dii: \", dii\n",
    "\t\t\tdip_ind = dip_inds[dii]\n",
    "\t\t\tres_tau = tau[dip_ind]\n",
    "\t\t\tN_data = data_func(N_vals, res_tau)\n",
    "\t\t\tsuccessful_fit, good_fit = True, True # did the fit succeed without throwing an error? was the error in the fit small enough?\n",
    "\t\t\ttry:\n",
    "\t\t\t\tphis, xs, scaled_error = analysis.repeated_spin_fit(N_vals, N_data, error_tol = error_tol, error_fun = error_fun, num_subsets = num_subsets, verbose = verbose, plots = plots)\n",
    "\t\t\t\tgood_fit = scaled_error <= error_tol\n",
    "\t\t\texcept analysis.FitError:\n",
    "\t\t\t\tsuccessful_fit, good_fit = False, False\n",
    "\t\t\t\tphis, xs = None, None\n",
    "\t\t\t\tscaled_error = None\n",
    "\t\t\tsuccessful_fits.append(successful_fit)\n",
    "\t\t\tgood_fits.append(good_fit)\n",
    "\t\t\tphis_list.append(phis)\n",
    "\t\t\txs_list.append(xs)\n",
    "\t\t\tscaled_errors.append(scaled_errors)\n",
    "\t\tprint \"create diamond_dict\"\n",
    "\t\tdiamond_dict = {\"A\" : A, \"B\" : B, \"r\" : r, \"costheta\" : costheta, \"sintheta\" : sintheta, \"N\" : N,\n",
    "\t\t\t\"tau\" : tau, \"data\" : data, \"N_vals\" : N_vals, \"N_data\" : N_data, \"dip_inds\" : dip_inds, \"windows\" : windows,\n",
    "\t\t\t\"successful_fits\" : successful_fits, \"good_fits\" : good_fits, \"error_tol\" : error_tol, \"num_subsets\" : num_subsets,\n",
    "\t\t\t\"phis_list\" : phis_list, \"xs_list\" : xs_list, \"scaled_errors\" : scaled_errors}\n",
    "\t\tprint \"store diamond_dict\"\n",
    "\t\tstore_obj_2(diamond_dict, \"diamonds/gdiamond_\" + str(diamond_num))\n",
    "\n"
   ]
  },
  {
   "cell_type": "code",
   "execution_count": 17,
   "metadata": {
    "collapsed": false
   },
   "outputs": [
    {
     "name": "stdout",
     "output_type": "stream",
     "text": [
      "diamond_num:  1\n",
      "number of dips:  1217\n",
      "dii:  0\n",
      "dii:  50\n",
      "dii:  100\n",
      "dii:  150\n",
      "dii:  200\n",
      "dii:  250\n",
      "dii:  300\n",
      "dii:  350\n",
      "dii:  400\n",
      "dii:  450\n",
      "dii:  500\n",
      "dii:  550\n",
      "dii:  600\n",
      "dii:  650\n",
      "dii:  700\n",
      "dii:  750\n",
      "dii:  800\n",
      "dii:  850\n",
      "dii:  900\n",
      "dii:  950\n",
      "dii:  1000\n",
      "dii:  1050\n",
      "dii:  1100\n",
      "dii:  1150\n",
      "dii:  1200\n",
      "create diamond_dict\n",
      "store diamond_dict\n"
     ]
    }
   ],
   "source": [
    "B_field = 0.0403555 # Teslas\n",
    "gam_c = 67.262 * 10 ** 6 # Gyromagnetic ratio for a single c13 nucleus in rad s-1 T-1\n",
    "ms = 1\n",
    "omega_larmor = -1 * ms * gam_c * B_field\n",
    "%lprun -f create_diamonds carbon = create_diamonds([1], omega_larmor, num_spins = 450)"
   ]
  },
  {
   "cell_type": "markdown",
   "metadata": {},
   "source": [
    "```\n",
    "Timer unit: 1e-06 s\n",
    "\n",
    "Total time: 742.781 s\n",
    "File: <ipython-input-14-bdaeb4fb273b>\n",
    "Function: create_diamonds at line 38\n",
    "\n",
    "Line #      Hits         Time  Per Hit   % Time  Line Contents\n",
    "==============================================================\n",
    "    38                                           def create_diamonds(diamond_num_list, omega_larmor, num_spins = 450):\n",
    "    39         1            3      3.0      0.0  \tverbose, plots = False, False\n",
    "    40         1            2      2.0      0.0  \tnum_subsets = 4\n",
    "    41         1            3      3.0      0.0  \terror_fun = analysis.squared_error\n",
    "    42         1            2      2.0      0.0  \terror_tol = .1/64\n",
    "    43         1            1      1.0      0.0  \tN = 64\n",
    "    44         1           20     20.0      0.0  \tN_vals = np.arange(0, 256, 2)\n",
    "    45         1          321    321.0      0.0  \ttau = analysis.choose_tau_params(N)\n",
    "    46         2            9      4.5      0.0  \tfor diamond_num in diamond_num_list:\n",
    "    47         1          259    259.0      0.0  \t\tprint \"diamond_num: \", diamond_num\n",
    "    48         1     12260015 12260015.0      1.7  \t\tA, B, r, costheta, sintheta = NV_generator.generate_spins(num_spins)\n",
    "    49         1            6      6.0      0.0  \t\tdef data_func(N, tau, noise_level = .02):\n",
    "    50                                           \t\t\tdata = analysis.calc_M(A, B, N, omega_larmor, tau)\n",
    "    51                                           \t\t\tnoise = np.random.randn(len(data)) * noise_level\n",
    "    52                                           \t\t\treturn data + noise\n",
    "    53         1       347356 347356.0      0.0  \t\tdata = data_func(N, tau)\n",
    "    54         1         2987   2987.0      0.0  \t\tdip_inds, windows = analysis.find_resonances(data, fit_dips_below = None)\n",
    "    55         1            3      3.0      0.0  \t\tsuccessful_fits, good_fits, phis_list, xs_list, scaled_errors = [], [], [], [], []\n",
    "    56         1          133    133.0      0.0  \t\tprint \"number of dips: \", len(dip_inds)\n",
    "    57      1218         2923      2.4      0.0  \t\tfor dii in range(len(dip_inds)):\n",
    "    58      1217         2656      2.2      0.0  \t\t\tif dii%50==0:\n",
    "    59        25         4049    162.0      0.0  \t\t\t\tprint \"dii: \", dii\n",
    "    60      1217         4196      3.4      0.0  \t\t\tdip_ind = dip_inds[dii]\n",
    "    61      1217         3451      2.8      0.0  \t\t\tres_tau = tau[dip_ind]\n",
    "    62      1217     28244165  23208.0      3.8  \t\t\tN_data = data_func(N_vals, res_tau)\n",
    "    63      1217         5404      4.4      0.0  \t\t\tsuccessful_fit, good_fit = True, True # did the fit succeed without throwing an error? was the error in the fit small enough?\n",
    "    64      1217         2340      1.9      0.0  \t\t\ttry:\n",
    "    65      1217    701259518 576219.8     94.4  \t\t\t\tphis, xs, scaled_error = analysis.repeated_spin_fit(N_vals, N_data, error_tol = error_tol, error_fun = error_fun, num_subsets = num_subsets, verbose = verbose, plots = plots)\n",
    "    66      1185         4564      3.9      0.0  \t\t\t\tgood_fit = scaled_error <= error_tol\n",
    "    67        32          146      4.6      0.0  \t\t\texcept analysis.FitError:\n",
    "    68        32           70      2.2      0.0  \t\t\t\tsuccessful_fit, good_fit = False, False\n",
    "    69        32           58      1.8      0.0  \t\t\t\tphis, xs = None, None\n",
    "    70        32           56      1.8      0.0  \t\t\t\tscaled_error = None\n",
    "    71      1217         4117      3.4      0.0  \t\t\tsuccessful_fits.append(successful_fit)\n",
    "    72      1217         2548      2.1      0.0  \t\t\tgood_fits.append(good_fit)\n",
    "    73      1217         2534      2.1      0.0  \t\t\tphis_list.append(phis)\n",
    "    74      1217         2532      2.1      0.0  \t\t\txs_list.append(xs)\n",
    "    75      1217         2462      2.0      0.0  \t\t\tscaled_errors.append(scaled_errors)\n",
    "    76         1          104    104.0      0.0  \t\tprint \"create diamond_dict\"\n",
    "    77         1            4      4.0      0.0  \t\tdiamond_dict = {\"A\" : A, \"B\" : B, \"r\" : r, \"costheta\" : costheta, \"sintheta\" : sintheta, \"N\" : N,\n",
    "    78         1            3      3.0      0.0  \t\t\t\"tau\" : tau, \"data\" : data, \"N_vals\" : N_vals, \"N_data\" : N_data, \"dip_inds\" : dip_inds, \"windows\" : windows,\n",
    "    79         1            2      2.0      0.0  \t\t\t\"successful_fits\" : successful_fits, \"good_fits\" : good_fits, \"error_tol\" : error_tol, \"num_subsets\" : num_subsets,\n",
    "    80         1            2      2.0      0.0  \t\t\t\"phis_list\" : phis_list, \"xs_list\" : xs_list, \"scaled_errors\" : scaled_errors}\n",
    "    81         1           24     24.0      0.0  \t\tprint \"store diamond_dict\"\n",
    "    82         1       621593 621593.0      0.1  \t\tstore_obj_2(diamond_dict, \"diamonds/gdiamond_\" + str(diamond_num))\n",
    " ```"
   ]
  },
  {
   "cell_type": "markdown",
   "metadata": {},
   "source": [
    "In the **create_diamonds** function most of the time (about 95%) is gobbled up by the **analysis.repeated_spin_fit** function."
   ]
  },
  {
   "cell_type": "code",
   "execution_count": null,
   "metadata": {
    "collapsed": true
   },
   "outputs": [],
   "source": [
    "analysis.repeated_spin_fit"
   ]
  },
  {
   "cell_type": "code",
   "execution_count": 18,
   "metadata": {
    "collapsed": false
   },
   "outputs": [
    {
     "name": "stdout",
     "output_type": "stream",
     "text": [
      "diamond_num:  0\n",
      "number of dips:  1163\n",
      "dii:  0\n",
      "dii:  50\n"
     ]
    },
    {
     "ename": "KeyboardInterrupt",
     "evalue": "",
     "output_type": "error",
     "traceback": [
      "\u001b[0;31m---------------------------------------------------------------------------\u001b[0m",
      "\u001b[0;31mKeyboardInterrupt\u001b[0m                         Traceback (most recent call last)",
      "\u001b[0;32m<ipython-input-18-233859c863f0>\u001b[0m in \u001b[0;36m<module>\u001b[0;34m()\u001b[0m\n\u001b[1;32m     30\u001b[0m         \u001b[0msuccessful_fit\u001b[0m\u001b[0;34m,\u001b[0m \u001b[0mgood_fit\u001b[0m \u001b[0;34m=\u001b[0m \u001b[0mTrue\u001b[0m\u001b[0;34m,\u001b[0m \u001b[0mTrue\u001b[0m \u001b[0;31m# did the fit succeed without throwing an error? was the error in the fit small enough?\u001b[0m\u001b[0;34m\u001b[0m\u001b[0m\n\u001b[1;32m     31\u001b[0m         \u001b[0;32mtry\u001b[0m\u001b[0;34m:\u001b[0m\u001b[0;34m\u001b[0m\u001b[0m\n\u001b[0;32m---> 32\u001b[0;31m             \u001b[0mphis\u001b[0m\u001b[0;34m,\u001b[0m \u001b[0mxs\u001b[0m\u001b[0;34m,\u001b[0m \u001b[0mscaled_error\u001b[0m \u001b[0;34m=\u001b[0m \u001b[0manalysis\u001b[0m\u001b[0;34m.\u001b[0m\u001b[0mrepeated_spin_fit\u001b[0m\u001b[0;34m(\u001b[0m\u001b[0mN_vals\u001b[0m\u001b[0;34m,\u001b[0m \u001b[0mN_data\u001b[0m\u001b[0;34m,\u001b[0m \u001b[0merror_tol\u001b[0m \u001b[0;34m=\u001b[0m \u001b[0merror_tol\u001b[0m\u001b[0;34m,\u001b[0m \u001b[0merror_fun\u001b[0m \u001b[0;34m=\u001b[0m \u001b[0merror_fun\u001b[0m\u001b[0;34m,\u001b[0m \u001b[0mnum_subsets\u001b[0m \u001b[0;34m=\u001b[0m \u001b[0mnum_subsets\u001b[0m\u001b[0;34m,\u001b[0m \u001b[0mverbose\u001b[0m \u001b[0;34m=\u001b[0m \u001b[0mverbose\u001b[0m\u001b[0;34m,\u001b[0m \u001b[0mplots\u001b[0m \u001b[0;34m=\u001b[0m \u001b[0mplots\u001b[0m\u001b[0;34m)\u001b[0m\u001b[0;34m\u001b[0m\u001b[0m\n\u001b[0m\u001b[1;32m     33\u001b[0m             \u001b[0mgood_fit\u001b[0m \u001b[0;34m=\u001b[0m \u001b[0mscaled_error\u001b[0m \u001b[0;34m<=\u001b[0m \u001b[0merror_tol\u001b[0m\u001b[0;34m\u001b[0m\u001b[0m\n\u001b[1;32m     34\u001b[0m         \u001b[0;32mexcept\u001b[0m \u001b[0manalysis\u001b[0m\u001b[0;34m.\u001b[0m\u001b[0mFitError\u001b[0m\u001b[0;34m:\u001b[0m\u001b[0;34m\u001b[0m\u001b[0m\n",
      "\u001b[0;32m/Users/juan/Gits/NV-spin-tomography/analysis.pyc\u001b[0m in \u001b[0;36mrepeated_spin_fit\u001b[0;34m(N_vals, N_data, error_tol, error_fun, num_subsets, fit_fun, extra_params, verbose, plots)\u001b[0m\n\u001b[1;32m    219\u001b[0m                 \u001b[0;32mtry\u001b[0m\u001b[0;34m:\u001b[0m\u001b[0;34m\u001b[0m\u001b[0m\n\u001b[1;32m    220\u001b[0m \t\t\tspin_ans = spin_fit(N_vals[subset], N_data[subset], error_fun = error_fun, fit_fun = fit_fun,\n\u001b[0;32m--> 221\u001b[0;31m \t\t\t\textra_params = extra_params, verbose = verbose, plots = plots)\n\u001b[0m\u001b[1;32m    222\u001b[0m                         \u001b[0mspin_fits\u001b[0m\u001b[0;34m.\u001b[0m\u001b[0mappend\u001b[0m\u001b[0;34m(\u001b[0m\u001b[0mspin_ans\u001b[0m\u001b[0;34m)\u001b[0m\u001b[0;34m\u001b[0m\u001b[0m\n\u001b[1;32m    223\u001b[0m                         \u001b[0mscaled_errors\u001b[0m\u001b[0;34m.\u001b[0m\u001b[0mappend\u001b[0m\u001b[0;34m(\u001b[0m\u001b[0;36m1.0\u001b[0m \u001b[0;34m*\u001b[0m \u001b[0merror_fun\u001b[0m\u001b[0;34m(\u001b[0m\u001b[0mfit_fun\u001b[0m\u001b[0;34m(\u001b[0m\u001b[0mN_vals\u001b[0m\u001b[0;34m,\u001b[0m \u001b[0;34m*\u001b[0m\u001b[0mspin_ans\u001b[0m\u001b[0;34m[\u001b[0m\u001b[0;36m0\u001b[0m\u001b[0;34m]\u001b[0m\u001b[0;34m)\u001b[0m\u001b[0;34m,\u001b[0m \u001b[0mN_data\u001b[0m\u001b[0;34m)\u001b[0m\u001b[0;34m/\u001b[0m\u001b[0mlen\u001b[0m\u001b[0;34m(\u001b[0m\u001b[0mN_vals\u001b[0m\u001b[0;34m)\u001b[0m\u001b[0;34m)\u001b[0m\u001b[0;34m\u001b[0m\u001b[0m\n",
      "\u001b[0;32m/Users/juan/Gits/NV-spin-tomography/analysis.pyc\u001b[0m in \u001b[0;36mspin_fit\u001b[0;34m(N_vals, N_data, error_fun, verbose, plots, fit_fun, extra_params)\u001b[0m\n\u001b[1;32m    181\u001b[0m                 \u001b[0mp0s\u001b[0m \u001b[0;34m=\u001b[0m \u001b[0mapprox_phis\u001b[0m \u001b[0;34m+\u001b[0m \u001b[0mapprox_xs\u001b[0m \u001b[0;34m+\u001b[0m \u001b[0mextra_params\u001b[0m\u001b[0;34m[\u001b[0m\u001b[0;34m:\u001b[0m\u001b[0mnum_spins\u001b[0m\u001b[0;34m]\u001b[0m\u001b[0;34m\u001b[0m\u001b[0m\n\u001b[1;32m    182\u001b[0m                 \u001b[0;32mtry\u001b[0m\u001b[0;34m:\u001b[0m\u001b[0;34m\u001b[0m\u001b[0m\n\u001b[0;32m--> 183\u001b[0;31m                         \u001b[0mpopts\u001b[0m\u001b[0;34m,\u001b[0m \u001b[0merror\u001b[0m\u001b[0;34m,\u001b[0m \u001b[0mvalid\u001b[0m \u001b[0;34m=\u001b[0m \u001b[0mspin_fit_guess\u001b[0m\u001b[0;34m(\u001b[0m\u001b[0mN_vals\u001b[0m\u001b[0;34m,\u001b[0m \u001b[0mN_data\u001b[0m\u001b[0;34m,\u001b[0m \u001b[0mnum_spins\u001b[0m\u001b[0;34m,\u001b[0m \u001b[0mp0s\u001b[0m\u001b[0;34m,\u001b[0m \u001b[0merror_fun\u001b[0m \u001b[0;34m=\u001b[0m \u001b[0merror_fun\u001b[0m\u001b[0;34m,\u001b[0m \u001b[0mfit_fun\u001b[0m \u001b[0;34m=\u001b[0m \u001b[0mfit_fun\u001b[0m\u001b[0;34m)\u001b[0m\u001b[0;34m\u001b[0m\u001b[0m\n\u001b[0m\u001b[1;32m    184\u001b[0m                         \u001b[0;32mif\u001b[0m \u001b[0mvalid\u001b[0m\u001b[0;34m:\u001b[0m\u001b[0;34m\u001b[0m\u001b[0m\n\u001b[1;32m    185\u001b[0m                                 \u001b[0mparams\u001b[0m\u001b[0;34m.\u001b[0m\u001b[0mappend\u001b[0m\u001b[0;34m(\u001b[0m\u001b[0mpopts\u001b[0m\u001b[0;34m)\u001b[0m\u001b[0;34m\u001b[0m\u001b[0m\n",
      "\u001b[0;32m/Users/juan/Gits/NV-spin-tomography/analysis.pyc\u001b[0m in \u001b[0;36mspin_fit_guess\u001b[0;34m(N_vals, N_data, num_spins, param_guess, error_fun, fit_fun)\u001b[0m\n\u001b[1;32m    154\u001b[0m                 \u001b[0;32mwith\u001b[0m \u001b[0mwarnings\u001b[0m\u001b[0;34m.\u001b[0m\u001b[0mcatch_warnings\u001b[0m\u001b[0;34m(\u001b[0m\u001b[0;34m)\u001b[0m\u001b[0;34m:\u001b[0m\u001b[0;34m\u001b[0m\u001b[0m\n\u001b[1;32m    155\u001b[0m                         \u001b[0mwarnings\u001b[0m\u001b[0;34m.\u001b[0m\u001b[0msimplefilter\u001b[0m\u001b[0;34m(\u001b[0m\u001b[0;34m\"ignore\"\u001b[0m\u001b[0;34m)\u001b[0m\u001b[0;34m\u001b[0m\u001b[0m\n\u001b[0;32m--> 156\u001b[0;31m                         \u001b[0mpopts\u001b[0m\u001b[0;34m,\u001b[0m \u001b[0mpcovs\u001b[0m \u001b[0;34m=\u001b[0m \u001b[0mopt\u001b[0m\u001b[0;34m.\u001b[0m\u001b[0mcurve_fit\u001b[0m\u001b[0;34m(\u001b[0m\u001b[0mfit_fun\u001b[0m\u001b[0;34m,\u001b[0m \u001b[0mN_vals\u001b[0m\u001b[0;34m,\u001b[0m \u001b[0mN_data\u001b[0m\u001b[0;34m,\u001b[0m \u001b[0mp0\u001b[0m \u001b[0;34m=\u001b[0m \u001b[0mparam_guess\u001b[0m\u001b[0;34m)\u001b[0m\u001b[0;34m\u001b[0m\u001b[0m\n\u001b[0m\u001b[1;32m    157\u001b[0m                 \u001b[0mxs\u001b[0m \u001b[0;34m=\u001b[0m \u001b[0mpopts\u001b[0m\u001b[0;34m[\u001b[0m\u001b[0mnum_spins\u001b[0m\u001b[0;34m:\u001b[0m\u001b[0;36m2\u001b[0m\u001b[0;34m*\u001b[0m\u001b[0mnum_spins\u001b[0m\u001b[0;34m]\u001b[0m\u001b[0;34m\u001b[0m\u001b[0m\n\u001b[1;32m    158\u001b[0m                 \u001b[0merror\u001b[0m \u001b[0;34m=\u001b[0m \u001b[0merror_fun\u001b[0m\u001b[0;34m(\u001b[0m\u001b[0mfit_fun\u001b[0m\u001b[0;34m(\u001b[0m\u001b[0mN_vals\u001b[0m\u001b[0;34m,\u001b[0m \u001b[0;34m*\u001b[0m\u001b[0mpopts\u001b[0m\u001b[0;34m)\u001b[0m\u001b[0;34m,\u001b[0m \u001b[0mN_data\u001b[0m\u001b[0;34m)\u001b[0m\u001b[0;34m\u001b[0m\u001b[0m\n",
      "\u001b[0;32m//anaconda/lib/python2.7/site-packages/scipy/optimize/minpack.pyc\u001b[0m in \u001b[0;36mcurve_fit\u001b[0;34m(f, xdata, ydata, p0, sigma, absolute_sigma, check_finite, bounds, method, **kwargs)\u001b[0m\n\u001b[1;32m    649\u001b[0m         \u001b[0;31m# Remove full_output from kwargs, otherwise we're passing it in twice.\u001b[0m\u001b[0;34m\u001b[0m\u001b[0;34m\u001b[0m\u001b[0m\n\u001b[1;32m    650\u001b[0m         \u001b[0mreturn_full\u001b[0m \u001b[0;34m=\u001b[0m \u001b[0mkwargs\u001b[0m\u001b[0;34m.\u001b[0m\u001b[0mpop\u001b[0m\u001b[0;34m(\u001b[0m\u001b[0;34m'full_output'\u001b[0m\u001b[0;34m,\u001b[0m \u001b[0mFalse\u001b[0m\u001b[0;34m)\u001b[0m\u001b[0;34m\u001b[0m\u001b[0m\n\u001b[0;32m--> 651\u001b[0;31m         \u001b[0mres\u001b[0m \u001b[0;34m=\u001b[0m \u001b[0mleastsq\u001b[0m\u001b[0;34m(\u001b[0m\u001b[0mfunc\u001b[0m\u001b[0;34m,\u001b[0m \u001b[0mp0\u001b[0m\u001b[0;34m,\u001b[0m \u001b[0margs\u001b[0m\u001b[0;34m=\u001b[0m\u001b[0margs\u001b[0m\u001b[0;34m,\u001b[0m \u001b[0mfull_output\u001b[0m\u001b[0;34m=\u001b[0m\u001b[0;36m1\u001b[0m\u001b[0;34m,\u001b[0m \u001b[0;34m**\u001b[0m\u001b[0mkwargs\u001b[0m\u001b[0;34m)\u001b[0m\u001b[0;34m\u001b[0m\u001b[0m\n\u001b[0m\u001b[1;32m    652\u001b[0m         \u001b[0mpopt\u001b[0m\u001b[0;34m,\u001b[0m \u001b[0mpcov\u001b[0m\u001b[0;34m,\u001b[0m \u001b[0minfodict\u001b[0m\u001b[0;34m,\u001b[0m \u001b[0merrmsg\u001b[0m\u001b[0;34m,\u001b[0m \u001b[0mier\u001b[0m \u001b[0;34m=\u001b[0m \u001b[0mres\u001b[0m\u001b[0;34m\u001b[0m\u001b[0m\n\u001b[1;32m    653\u001b[0m         \u001b[0mcost\u001b[0m \u001b[0;34m=\u001b[0m \u001b[0mnp\u001b[0m\u001b[0;34m.\u001b[0m\u001b[0msum\u001b[0m\u001b[0;34m(\u001b[0m\u001b[0minfodict\u001b[0m\u001b[0;34m[\u001b[0m\u001b[0;34m'fvec'\u001b[0m\u001b[0;34m]\u001b[0m \u001b[0;34m**\u001b[0m \u001b[0;36m2\u001b[0m\u001b[0;34m)\u001b[0m\u001b[0;34m\u001b[0m\u001b[0m\n",
      "\u001b[0;32m//anaconda/lib/python2.7/site-packages/scipy/optimize/minpack.pyc\u001b[0m in \u001b[0;36mleastsq\u001b[0;34m(func, x0, args, Dfun, full_output, col_deriv, ftol, xtol, gtol, maxfev, epsfcn, factor, diag)\u001b[0m\n\u001b[1;32m    385\u001b[0m             \u001b[0mmaxfev\u001b[0m \u001b[0;34m=\u001b[0m \u001b[0;36m200\u001b[0m\u001b[0;34m*\u001b[0m\u001b[0;34m(\u001b[0m\u001b[0mn\u001b[0m \u001b[0;34m+\u001b[0m \u001b[0;36m1\u001b[0m\u001b[0;34m)\u001b[0m\u001b[0;34m\u001b[0m\u001b[0m\n\u001b[1;32m    386\u001b[0m         retval = _minpack._lmdif(func, x0, args, full_output, ftol, xtol,\n\u001b[0;32m--> 387\u001b[0;31m                                  gtol, maxfev, epsfcn, factor, diag)\n\u001b[0m\u001b[1;32m    388\u001b[0m     \u001b[0;32melse\u001b[0m\u001b[0;34m:\u001b[0m\u001b[0;34m\u001b[0m\u001b[0m\n\u001b[1;32m    389\u001b[0m         \u001b[0;32mif\u001b[0m \u001b[0mcol_deriv\u001b[0m\u001b[0;34m:\u001b[0m\u001b[0;34m\u001b[0m\u001b[0m\n",
      "\u001b[0;32m//anaconda/lib/python2.7/site-packages/scipy/optimize/minpack.pyc\u001b[0m in \u001b[0;36m_general_function\u001b[0;34m(params, xdata, ydata, function)\u001b[0m\n\u001b[1;32m    451\u001b[0m \u001b[0;34m\u001b[0m\u001b[0m\n\u001b[1;32m    452\u001b[0m \u001b[0;32mdef\u001b[0m \u001b[0m_general_function\u001b[0m\u001b[0;34m(\u001b[0m\u001b[0mparams\u001b[0m\u001b[0;34m,\u001b[0m \u001b[0mxdata\u001b[0m\u001b[0;34m,\u001b[0m \u001b[0mydata\u001b[0m\u001b[0;34m,\u001b[0m \u001b[0mfunction\u001b[0m\u001b[0;34m)\u001b[0m\u001b[0;34m:\u001b[0m\u001b[0;34m\u001b[0m\u001b[0m\n\u001b[0;32m--> 453\u001b[0;31m     \u001b[0;32mreturn\u001b[0m \u001b[0mfunction\u001b[0m\u001b[0;34m(\u001b[0m\u001b[0mxdata\u001b[0m\u001b[0;34m,\u001b[0m \u001b[0;34m*\u001b[0m\u001b[0mparams\u001b[0m\u001b[0;34m)\u001b[0m \u001b[0;34m-\u001b[0m \u001b[0mydata\u001b[0m\u001b[0;34m\u001b[0m\u001b[0m\n\u001b[0m\u001b[1;32m    454\u001b[0m \u001b[0;34m\u001b[0m\u001b[0m\n\u001b[1;32m    455\u001b[0m \u001b[0;34m\u001b[0m\u001b[0m\n",
      "\u001b[0;32m/Users/juan/Gits/NV-spin-tomography/analysis.pyc\u001b[0m in \u001b[0;36mspin_fit_fun\u001b[0;34m(N, *args)\u001b[0m\n\u001b[1;32m    142\u001b[0m         \u001b[0mnum_spins\u001b[0m \u001b[0;34m=\u001b[0m \u001b[0mlen\u001b[0m\u001b[0;34m(\u001b[0m\u001b[0margs\u001b[0m\u001b[0;34m)\u001b[0m\u001b[0;34m/\u001b[0m\u001b[0;36m2\u001b[0m\u001b[0;34m\u001b[0m\u001b[0m\n\u001b[1;32m    143\u001b[0m         \u001b[0mphis\u001b[0m\u001b[0;34m,\u001b[0m \u001b[0mxs\u001b[0m \u001b[0;34m=\u001b[0m \u001b[0margs\u001b[0m\u001b[0;34m[\u001b[0m\u001b[0;34m:\u001b[0m\u001b[0mnum_spins\u001b[0m\u001b[0;34m]\u001b[0m\u001b[0;34m,\u001b[0m \u001b[0margs\u001b[0m\u001b[0;34m[\u001b[0m\u001b[0mnum_spins\u001b[0m\u001b[0;34m:\u001b[0m\u001b[0;36m2\u001b[0m\u001b[0;34m*\u001b[0m\u001b[0mnum_spins\u001b[0m\u001b[0;34m]\u001b[0m\u001b[0;34m\u001b[0m\u001b[0m\n\u001b[0;32m--> 144\u001b[0;31m         \u001b[0;32mreturn\u001b[0m \u001b[0mreduce\u001b[0m\u001b[0;34m(\u001b[0m\u001b[0;32mlambda\u001b[0m \u001b[0maccum\u001b[0m\u001b[0;34m,\u001b[0m \u001b[0mnext\u001b[0m\u001b[0;34m:\u001b[0m \u001b[0maccum\u001b[0m \u001b[0;34m*\u001b[0m \u001b[0mspin_fit_fun_single\u001b[0m\u001b[0;34m(\u001b[0m\u001b[0mN\u001b[0m\u001b[0;34m,\u001b[0m \u001b[0mnext\u001b[0m\u001b[0;34m[\u001b[0m\u001b[0;36m0\u001b[0m\u001b[0;34m]\u001b[0m\u001b[0;34m,\u001b[0m \u001b[0mnext\u001b[0m\u001b[0;34m[\u001b[0m\u001b[0;36m1\u001b[0m\u001b[0;34m]\u001b[0m\u001b[0;34m)\u001b[0m\u001b[0;34m,\u001b[0m \u001b[0mzip\u001b[0m\u001b[0;34m(\u001b[0m\u001b[0mphis\u001b[0m\u001b[0;34m,\u001b[0m \u001b[0mxs\u001b[0m\u001b[0;34m)\u001b[0m\u001b[0;34m,\u001b[0m \u001b[0;36m1.0\u001b[0m\u001b[0;34m)\u001b[0m\u001b[0;34m\u001b[0m\u001b[0m\n\u001b[0m\u001b[1;32m    145\u001b[0m \u001b[0;34m\u001b[0m\u001b[0m\n\u001b[1;32m    146\u001b[0m \u001b[0;31m# for two arrays l1 and l2 returns the squared error between them\u001b[0m\u001b[0;34m\u001b[0m\u001b[0;34m\u001b[0m\u001b[0m\n",
      "\u001b[0;32m/Users/juan/Gits/NV-spin-tomography/analysis.pyc\u001b[0m in \u001b[0;36m<lambda>\u001b[0;34m(accum, next)\u001b[0m\n\u001b[1;32m    142\u001b[0m         \u001b[0mnum_spins\u001b[0m \u001b[0;34m=\u001b[0m \u001b[0mlen\u001b[0m\u001b[0;34m(\u001b[0m\u001b[0margs\u001b[0m\u001b[0;34m)\u001b[0m\u001b[0;34m/\u001b[0m\u001b[0;36m2\u001b[0m\u001b[0;34m\u001b[0m\u001b[0m\n\u001b[1;32m    143\u001b[0m         \u001b[0mphis\u001b[0m\u001b[0;34m,\u001b[0m \u001b[0mxs\u001b[0m \u001b[0;34m=\u001b[0m \u001b[0margs\u001b[0m\u001b[0;34m[\u001b[0m\u001b[0;34m:\u001b[0m\u001b[0mnum_spins\u001b[0m\u001b[0;34m]\u001b[0m\u001b[0;34m,\u001b[0m \u001b[0margs\u001b[0m\u001b[0;34m[\u001b[0m\u001b[0mnum_spins\u001b[0m\u001b[0;34m:\u001b[0m\u001b[0;36m2\u001b[0m\u001b[0;34m*\u001b[0m\u001b[0mnum_spins\u001b[0m\u001b[0;34m]\u001b[0m\u001b[0;34m\u001b[0m\u001b[0m\n\u001b[0;32m--> 144\u001b[0;31m         \u001b[0;32mreturn\u001b[0m \u001b[0mreduce\u001b[0m\u001b[0;34m(\u001b[0m\u001b[0;32mlambda\u001b[0m \u001b[0maccum\u001b[0m\u001b[0;34m,\u001b[0m \u001b[0mnext\u001b[0m\u001b[0;34m:\u001b[0m \u001b[0maccum\u001b[0m \u001b[0;34m*\u001b[0m \u001b[0mspin_fit_fun_single\u001b[0m\u001b[0;34m(\u001b[0m\u001b[0mN\u001b[0m\u001b[0;34m,\u001b[0m \u001b[0mnext\u001b[0m\u001b[0;34m[\u001b[0m\u001b[0;36m0\u001b[0m\u001b[0;34m]\u001b[0m\u001b[0;34m,\u001b[0m \u001b[0mnext\u001b[0m\u001b[0;34m[\u001b[0m\u001b[0;36m1\u001b[0m\u001b[0;34m]\u001b[0m\u001b[0;34m)\u001b[0m\u001b[0;34m,\u001b[0m \u001b[0mzip\u001b[0m\u001b[0;34m(\u001b[0m\u001b[0mphis\u001b[0m\u001b[0;34m,\u001b[0m \u001b[0mxs\u001b[0m\u001b[0;34m)\u001b[0m\u001b[0;34m,\u001b[0m \u001b[0;36m1.0\u001b[0m\u001b[0;34m)\u001b[0m\u001b[0;34m\u001b[0m\u001b[0m\n\u001b[0m\u001b[1;32m    145\u001b[0m \u001b[0;34m\u001b[0m\u001b[0m\n\u001b[1;32m    146\u001b[0m \u001b[0;31m# for two arrays l1 and l2 returns the squared error between them\u001b[0m\u001b[0;34m\u001b[0m\u001b[0;34m\u001b[0m\u001b[0m\n",
      "\u001b[0;32m/Users/juan/Gits/NV-spin-tomography/analysis.pyc\u001b[0m in \u001b[0;36mspin_fit_fun_single\u001b[0;34m(N, phi, x)\u001b[0m\n\u001b[1;32m    133\u001b[0m \u001b[0;31m# the form of the signal as a function of N for a fixed tau\u001b[0m\u001b[0;34m\u001b[0m\u001b[0;34m\u001b[0m\u001b[0m\n\u001b[1;32m    134\u001b[0m \u001b[0;32mdef\u001b[0m \u001b[0mspin_fit_fun_single\u001b[0m\u001b[0;34m(\u001b[0m\u001b[0mN\u001b[0m\u001b[0;34m,\u001b[0m \u001b[0mphi\u001b[0m\u001b[0;34m,\u001b[0m \u001b[0mx\u001b[0m\u001b[0;34m)\u001b[0m\u001b[0;34m:\u001b[0m\u001b[0;34m\u001b[0m\u001b[0m\n\u001b[0;32m--> 135\u001b[0;31m         \u001b[0;32mreturn\u001b[0m \u001b[0;36m1\u001b[0m \u001b[0;34m-\u001b[0m \u001b[0mx\u001b[0m \u001b[0;34m*\u001b[0m \u001b[0;34m(\u001b[0m\u001b[0mnp\u001b[0m\u001b[0;34m.\u001b[0m\u001b[0msin\u001b[0m\u001b[0;34m(\u001b[0m\u001b[0mN\u001b[0m \u001b[0;34m*\u001b[0m \u001b[0mphi\u001b[0m\u001b[0;34m/\u001b[0m\u001b[0;36m2.0\u001b[0m\u001b[0;34m)\u001b[0m \u001b[0;34m**\u001b[0m \u001b[0;36m2\u001b[0m\u001b[0;34m)\u001b[0m\u001b[0;34m\u001b[0m\u001b[0m\n\u001b[0m\u001b[1;32m    136\u001b[0m \u001b[0;34m\u001b[0m\u001b[0m\n\u001b[1;32m    137\u001b[0m \u001b[0;31m# the form of the signal as a function of N for a fixed tau with several spins\u001b[0m\u001b[0;34m\u001b[0m\u001b[0;34m\u001b[0m\u001b[0m\n",
      "\u001b[0;31mKeyboardInterrupt\u001b[0m: "
     ]
    }
   ],
   "source": [
    "#def create_diamonds(diamond_num_list, omega_larmor, num_spins = 450):\n",
    "diamond_num_list = [0]\n",
    "num_spins = 450\n",
    "verbose, plots = False, False\n",
    "num_subsets = 4\n",
    "error_fun = analysis.squared_error\n",
    "error_tol = .1/64\n",
    "N = 64\n",
    "N_vals = np.arange(0, 256, 2)\n",
    "tau = analysis.choose_tau_params(N)\n",
    "for diamond_num in diamond_num_list:\n",
    "    print \"diamond_num: \", diamond_num\n",
    "    A, B, r, costheta, sintheta = NV_generator.generate_spins(num_spins)\n",
    "    def data_func(N, tau, noise_level = .02):\n",
    "        data = analysis.calc_M(A, B, N, omega_larmor, tau)\n",
    "        noise = np.random.randn(len(data)) * noise_level\n",
    "        return data + noise\n",
    "    data = data_func(N, tau)\n",
    "    dip_inds, windows = analysis.find_resonances(data, fit_dips_below = None)\n",
    "    successful_fits, good_fits, phis_list, xs_list, scaled_errors = [], [], [], [], []\n",
    "    print \"number of dips: \", len(dip_inds)\n",
    "    for dii in range(len(dip_inds)):\n",
    "        if dii%50==0:\n",
    "            print \"dii: \", dii\n",
    "        if dii == 100:\n",
    "            break\n",
    "        dip_ind = dip_inds[dii]\n",
    "        res_tau = tau[dip_ind]\n",
    "        N_data = data_func(N_vals, res_tau)\n",
    "        successful_fit, good_fit = True, True # did the fit succeed without throwing an error? was the error in the fit small enough?\n",
    "        try:\n",
    "            phis, xs, scaled_error = analysis.repeated_spin_fit(N_vals, N_data, error_tol = error_tol, error_fun = error_fun, num_subsets = num_subsets, verbose = verbose, plots = plots)\n",
    "            good_fit = scaled_error <= error_tol\n",
    "        except analysis.FitError:\n",
    "            successful_fit, good_fit = False, False\n",
    "            phis, xs = None, None\n",
    "            scaled_error = None\n",
    "        successful_fits.append(successful_fit)\n",
    "        good_fits.append(good_fit)\n",
    "        phis_list.append(phis)\n",
    "        xs_list.append(xs)\n",
    "        scaled_errors.append(scaled_errors)\n",
    "    print \"create diamond_dict\"\n",
    "    diamond_dict = {\"A\" : A, \"B\" : B, \"r\" : r, \"costheta\" : costheta, \"sintheta\" : sintheta, \"N\" : N,\n",
    "        \"tau\" : tau, \"data\" : data, \"N_vals\" : N_vals, \"N_data\" : N_data, \"dip_inds\" : dip_inds, \"windows\" : windows,\n",
    "        \"successful_fits\" : successful_fits, \"good_fits\" : good_fits, \"error_tol\" : error_tol, \"num_subsets\" : num_subsets,\n",
    "        \"phis_list\" : phis_list, \"xs_list\" : xs_list, \"scaled_errors\" : scaled_errors}\n",
    "    print \"store diamond_dict\"\n",
    "    store_obj_2(diamond_dict, \"diamonds/gdiamond_\" + str(diamond_num))"
   ]
  },
  {
   "cell_type": "code",
   "execution_count": 19,
   "metadata": {
    "collapsed": true
   },
   "outputs": [],
   "source": [
    "%lprun -f analysis.repeated_spin_fit phis, xs, scaled_error = analysis.repeated_spin_fit(N_vals, N_data, error_tol = error_tol, error_fun = error_fun, num_subsets = num_subsets, verbose = verbose, plots = plots)"
   ]
  },
  {
   "cell_type": "markdown",
   "metadata": {},
   "source": [
    "```\n",
    "Timer unit: 1e-06 s\n",
    "\n",
    "Total time: 0.74174 s\n",
    "File: analysis.py\n",
    "Function: repeated_spin_fit at line 215\n",
    "\n",
    "Line #      Hits         Time  Per Hit   % Time  Line Contents\n",
    "==============================================================\n",
    "   215                                           def repeated_spin_fit(N_vals, N_data, error_tol, error_fun = squared_error, num_subsets = 4,\n",
    "   216                                           \tfit_fun = spin_fit_fun, extra_params = [], verbose = True, plots = True):\n",
    "   217         1            3      3.0      0.0  \tspin_fits, scaled_errors = [], []\n",
    "   218         9          154     17.1      0.0  \tfor subset in [np.arange(int(len(N_vals) * r)) for r in np.linspace(0, 1, 1 + num_subsets)[1:]]:\n",
    "   219         4            6      1.5      0.0  \t\ttry:\n",
    "   220         4           22      5.5      0.0  \t\t\tspin_ans = spin_fit(N_vals[subset], N_data[subset], error_fun = error_fun, fit_fun = fit_fun,\n",
    "   221         4       689130 172282.5     92.9  \t\t\t\textra_params = extra_params, verbose = verbose, plots = plots)\n",
    "   222         4           16      4.0      0.0  \t\t\tspin_fits.append(spin_ans)\n",
    "   223         4          417    104.2      0.1  \t\t\tscaled_errors.append(1.0 * error_fun(fit_fun(N_vals, *spin_ans[0]), N_data)/len(N_vals))\n",
    "   224                                           \t\texcept FitError:\n",
    "   225                                           \t\t\tpass\n",
    "   226         1            2      2.0      0.0  \tif not spin_fits:\n",
    "   227                                           \t\traise FitError(\"Failed to fit spins with N data.\")\n",
    "   228         1           19     19.0      0.0  \tmin_ind = np.argmin(scaled_errors)\n",
    "   229         1            2      2.0      0.0  \tpopt_spin, num_spins = spin_fits[min_ind]\n",
    "   230         1            1      1.0      0.0  \tif verbose:\n",
    "   231                                           \t\tprint \"best before final pass: \", min_ind\n",
    "   232                                           \t\tphis, xs = np.array(popt_spin[:num_spins]) % np.pi, np.array(popt_spin[num_spins:2*num_spins])\n",
    "   233                                           \t\tphis, xs = map(np.array, zip(*sorted(zip(phis, xs), key = lambda x:-x[1])))# sort phis in decreasing order by xs\n",
    "   234                                           \t\tprint \"answer before final pass: \", xs, phis\n",
    "   235         1            1      1.0      0.0  \ttry:\n",
    "   236         1        51616  51616.0      7.0  \t\tpopts, error, valid = spin_fit_guess(N_vals, N_data, num_spins, popt_spin, error_fun = error_fun, fit_fun = fit_fun)\n",
    "   237         1            3      3.0      0.0  \t\tif valid:\n",
    "   238         1            6      6.0      0.0  \t\t\tspin_fits.append((popts, num_spins))\n",
    "   239         1          157    157.0      0.0  \t\t\tscaled_errors.append(1.0 * error_fun(fit_fun(N_vals, *popts), N_data)/len(N_vals))\n",
    "   240         1          143    143.0      0.0  \t\t\tmin_ind = np.argmin(scaled_errors)\n",
    "   241         1            4      4.0      0.0  \t\t\tpopt_spin, num_spins = spin_fits[min_ind]\n",
    "   242         1            3      3.0      0.0  \t\tif plots:\n",
    "   243                                           \t\t\tplt.figure(figsize = (10,10))\n",
    "   244                                           \t\t\tplt.plot(N_vals, N_data, '.-k', lw=0.4, label = 'data')\n",
    "   245                                           \t\t\tplt.plot(N_vals, fit_fun(N_vals, *popts), label = 'fit')\n",
    "   246                                           \t\t\tplt.title('Fitted N data')\n",
    "   247                                           \t\t\tplt.xlabel('N')\n",
    "   248                                           \t\t\tplt.ylabel('M')\n",
    "   249                                           \t\t\tplt.legend()\n",
    "   250                                           \t\t\tplt.show()\n",
    "   251                                           \texcept FitError:\n",
    "   252                                           \t\tpass\n",
    "   253         1            6      6.0      0.0  \tif verbose:\n",
    "   254                                           \t\tprint \"best overall: \", min_ind\n",
    "   255                                           \t\tprint scaled_errors\n",
    "   256         1            4      4.0      0.0  \tscaled_error = scaled_errors[min_ind]\n",
    "   257         1           22     22.0      0.0  \tphis, xs = np.array(popt_spin[:num_spins]) % np.pi, np.array(popt_spin[num_spins:2*num_spins])\n",
    "   258                                           \t#phis, xs = map(np.array, zip(*sorted(zip(phis, xs), key = lambda x:-x[1])))# sort phis in decreasing order by xs\n",
    "   259         1            3      3.0      0.0  \treturn phis, xs, scaled_error\n",
    "```"
   ]
  },
  {
   "cell_type": "markdown",
   "metadata": {},
   "source": [
    "And within **analysis.repeated_spin_fit** most of time (93%) is taken by the **spin_fit** function calls."
   ]
  },
  {
   "cell_type": "code",
   "execution_count": 22,
   "metadata": {
    "collapsed": true
   },
   "outputs": [],
   "source": [
    "#def repeated_spin_fit(N_vals, N_data, error_tol, error_fun = squared_error, num_subsets = 4,fit_fun = spin_fit_fun, extra_params = [], verbose = True, plots = True):\n",
    "spin_fits, scaled_errors = [], []\n",
    "for subset in [np.arange(int(len(N_vals) * r)) for r in np.linspace(0, 1, 1 + num_subsets)[1:]]:\n",
    "    one_subset = subset\n",
    "    break\n",
    "#     try:\n",
    "#         spin_ans = spin_fit(N_vals[subset], N_data[subset], error_fun = error_fun, fit_fun = fit_fun,\n",
    "#             extra_params = extra_params, verbose = verbose, plots = plots)\n",
    "#         spin_fits.append(spin_ans)\n",
    "#         scaled_errors.append(1.0 * error_fun(fit_fun(N_vals, *spin_ans[0]), N_data)/len(N_vals))\n",
    "#     except FitError:\n",
    "#         pass\n",
    "# if not spin_fits:\n",
    "#     raise FitError(\"Failed to fit spins with N data.\")\n",
    "# min_ind = np.argmin(scaled_errors)\n",
    "# popt_spin, num_spins = spin_fits[min_ind]\n",
    "# if verbose:\n",
    "#     print \"best before final pass: \", min_ind\n",
    "#     phis, xs = np.array(popt_spin[:num_spins]) % np.pi, np.array(popt_spin[num_spins:2*num_spins])\n",
    "#     phis, xs = map(np.array, zip(*sorted(zip(phis, xs), key = lambda x:-x[1])))# sort phis in decreasing order by xs\n",
    "#     print \"answer before final pass: \", xs, phis\n",
    "# try:\n",
    "#     popts, error, valid = spin_fit_guess(N_vals, N_data, num_spins, popt_spin, error_fun = error_fun, fit_fun = fit_fun)\n",
    "#     if valid:\n",
    "#         spin_fits.append((popts, num_spins))\n",
    "#         scaled_errors.append(1.0 * error_fun(fit_fun(N_vals, *popts), N_data)/len(N_vals))\n",
    "#         min_ind = np.argmin(scaled_errors)\n",
    "#         popt_spin, num_spins = spin_fits[min_ind]\n",
    "#     if plots:\n",
    "#         plt.figure(figsize = (10,10))\n",
    "#         plt.plot(N_vals, N_data, '.-k', lw=0.4, label = 'data')\n",
    "#         plt.plot(N_vals, fit_fun(N_vals, *popts), label = 'fit')\n",
    "#         plt.title('Fitted N data')\n",
    "#         plt.xlabel('N')\n",
    "#         plt.ylabel('M')\n",
    "#         plt.legend()\n",
    "#         plt.show()\n",
    "# except FitError:\n",
    "#     pass\n",
    "# if verbose:\n",
    "#     print \"best overall: \", min_ind\n",
    "#     print scaled_errors\n",
    "# scaled_error = scaled_errors[min_ind]\n",
    "# phis, xs = np.array(popt_spin[:num_spins]) % np.pi, np.array(popt_spin[num_spins:2*num_spins])\n",
    "# #phis, xs = map(np.array, zip(*sorted(zip(phis, xs), key = lambda x:-x[1])))# sort phis in decreasing order by xs\n",
    "# #return phis, xs, scaled_error  "
   ]
  },
  {
   "cell_type": "code",
   "execution_count": 23,
   "metadata": {
    "collapsed": true
   },
   "outputs": [],
   "source": [
    "subset = one_subset"
   ]
  },
  {
   "cell_type": "code",
   "execution_count": 24,
   "metadata": {
    "collapsed": false
   },
   "outputs": [
    {
     "data": {
      "text/plain": [
       "array([ 0,  1,  2,  3,  4,  5,  6,  7,  8,  9, 10, 11, 12, 13, 14, 15, 16,\n",
       "       17, 18, 19, 20, 21, 22, 23, 24, 25, 26, 27, 28, 29, 30, 31])"
      ]
     },
     "execution_count": 24,
     "metadata": {},
     "output_type": "execute_result"
    }
   ],
   "source": [
    "subset"
   ]
  },
  {
   "cell_type": "code",
   "execution_count": 32,
   "metadata": {
    "collapsed": false
   },
   "outputs": [],
   "source": [
    "%lprun -f analysis.spin_fit spin_ans = analysis.spin_fit(N_vals[subset], N_data[subset], error_fun = error_fun, fit_fun = analysis.spin_fit_fun,extra_params = [], verbose = verbose, plots = plots)"
   ]
  },
  {
   "cell_type": "markdown",
   "metadata": {},
   "source": [
    "```\n",
    "Timer unit: 1e-06 s\n",
    "\n",
    "Total time: 0.121627 s\n",
    "File: analysis.py\n",
    "Function: spin_fit at line 166\n",
    "\n",
    "Line #      Hits         Time  Per Hit   % Time  Line Contents\n",
    "==============================================================\n",
    "   166                                           def spin_fit(N_vals, N_data, error_fun = squared_error, verbose = True, plots = True, fit_fun = spin_fit_fun, extra_params = []):\n",
    "   167         1          295    295.0      0.2  \tcoefs, freqs = sinusoid_coefs_fft(N_vals, N_data)\n",
    "   168         1         1152   1152.0      0.9  \tlikely_freqs = find_peaks_from_fourier(coefs, freqs)\n",
    "   169         1            2      2.0      0.0  \tparams, errors, spins_found = [], [], []\n",
    "   170                                           \t# the higest number of spins that can be fit with l frequencies\n",
    "   171         1            1      1.0      0.0  \tdef highest_spin(l):\n",
    "   172                                           \t\tif l <= 3:\n",
    "   173                                           \t\t\treturn l\n",
    "   174                                           \t\telif l == 4:\n",
    "   175                                           \t\t\treturn 3\n",
    "   176                                           \t\telse:\n",
    "   177                                           \t\t\treturn 4 # make this 5 if you figure out how to do 5\n",
    "   178         5           14      2.8      0.0  \tfor num_spins in range(1,1 + highest_spin(len(likely_freqs))):\n",
    "   179         4          148     37.0      0.1  \t\tapprox_phis = gen_freqs_from_fourier(likely_freqs, num_spins)\n",
    "   180         4           13      3.2      0.0  \t\tapprox_xs = num_spins * [2.0]\n",
    "   181         4           12      3.0      0.0  \t\tp0s = approx_phis + approx_xs + extra_params[:num_spins]\n",
    "   182         4            7      1.8      0.0  \t\ttry:\n",
    "   183         4       119918  29979.5     98.6  \t\t\tpopts, error, valid = spin_fit_guess(N_vals, N_data, num_spins, p0s, error_fun = error_fun, fit_fun = fit_fun)\n",
    "   184         4           12      3.0      0.0  \t\t\tif valid:\n",
    "   185         3            8      2.7      0.0  \t\t\t\tparams.append(popts)\n",
    "   186         3            6      2.0      0.0  \t\t\t\terrors.append(error)\n",
    "   187         3            6      2.0      0.0  \t\t\t\tspins_found.append(num_spins)\n",
    "   188                                           \t\texcept FitError:\n",
    "   189                                           \t\t\tpass\n",
    "   190         1            1      1.0      0.0  \tif not params:\n",
    "   191                                           \t\traise FitError(\"Failed to fit spins with N data.\")\n",
    "   192                                           \telse:\n",
    "   193         1           28     28.0      0.0  \t\tind = np.argmin(errors)\n",
    "   194         1            1      1.0      0.0  \t\tif plots:\n",
    "   195                                           \t\t\tplt.figure(figsize=(10,10))\n",
    "   196                                           \t\t\tplt.plot(freqs, coefs.real, label = 'real part')\n",
    "   197                                           \t\t\tplt.plot(freqs, coefs.imag, label = 'imag part')\n",
    "   198                                           \t\t\tplt.title('Fourier spectrum')\n",
    "   199                                           \t\t\tplt.xlabel('phi')\n",
    "   200                                           \t\t\tplt.ylabel('Fourier coeficient')\n",
    "   201                                           \t\t\tplt.legend()\n",
    "   202                                           \t\t\tplt.show()\n",
    "   203                                           \t\t\tplt.figure(figsize=(10,10))\n",
    "   204                                           \t\t\tplt.plot(N_vals, N_data, '.-k', lw=0.4, label = 'data')\n",
    "   205                                           \t\t\tplt.plot(N_vals, fit_fun(N_vals, *params[ind]), label = 'fit')\n",
    "   206                                           \t\t\tplt.title('Fitted N data')\n",
    "   207                                           \t\t\tplt.xlabel('N')\n",
    "   208                                           \t\t\tplt.ylabel('M')\n",
    "   209                                           \t\t\tplt.legend()\n",
    "   210                                           \t\t\tplt.show()\n",
    "   211         1            3      3.0      0.0  \t\treturn params[ind], spins_found[ind]\n",
    "```"
   ]
  },
  {
   "cell_type": "markdown",
   "metadata": {},
   "source": [
    "And within ```analysis.spin_fit()``` 98% of the time is taken by the ```analysis.spin_fit_guess()``` function."
   ]
  },
  {
   "cell_type": "code",
   "execution_count": 42,
   "metadata": {
    "collapsed": false
   },
   "outputs": [],
   "source": [
    "#def spin_fit(N_vals, N_data, error_fun = squared_error, verbose = True, plots = True, fit_fun = spin_fit_fun, extra_params = []):\n",
    "coefs, freqs = analysis.sinusoid_coefs_fft(N_vals, N_data)\n",
    "likely_freqs = analysis.find_peaks_from_fourier(coefs, freqs)\n",
    "params, errors, spins_found = [], [], []"
   ]
  },
  {
   "cell_type": "code",
   "execution_count": 45,
   "metadata": {
    "collapsed": false
   },
   "outputs": [],
   "source": [
    "# the higest number of spins that can be fit with l frequencies\n",
    "extra_params=[]\n",
    "def highest_spin(l):\n",
    "    if l <= 3:\n",
    "        return l\n",
    "    elif l == 4:\n",
    "        return 3\n",
    "    else:\n",
    "        return 4 # make this 5 if you figure out how to do 5\n",
    "for num_spins in range(1,1 + highest_spin(len(likely_freqs))):\n",
    "    approx_phis = analysis.gen_freqs_from_fourier(likely_freqs, num_spins)\n",
    "    approx_xs = num_spins * [2.0]\n",
    "    p0s = approx_phis + approx_xs + extra_params[:num_spins]\n",
    "    break\n",
    "    try:\n",
    "        popts, error, valid = spin_fit_guess(N_vals, N_data, num_spins, p0s, error_fun = error_fun, fit_fun = fit_fun)\n",
    "        \n",
    "        if valid:\n",
    "            params.append(popts)\n",
    "            errors.append(error)\n",
    "            spins_found.append(num_spins)\n",
    "    except FitError:\n",
    "        pass\n",
    "# if not params:\n",
    "#     raise FitError(\"Failed to fit spins with N data.\")\n",
    "# else:\n",
    "#     ind = np.argmin(errors)\n",
    "#     if plots:\n",
    "#         plt.figure(figsize=(10,10))\n",
    "#         plt.plot(freqs, coefs.real, label = 'real part')\n",
    "#         plt.plot(freqs, coefs.imag, label = 'imag part')\n",
    "#         plt.title('Fourier spectrum')\n",
    "#         plt.xlabel('phi')\n",
    "#         plt.ylabel('Fourier coeficient')\n",
    "#         plt.legend()\n",
    "#         plt.show()\n",
    "#         plt.figure(figsize=(10,10))\n",
    "#         plt.plot(N_vals, N_data, '.-k', lw=0.4, label = 'data')\n",
    "#         plt.plot(N_vals, fit_fun(N_vals, *params[ind]), label = 'fit')\n",
    "#         plt.title('Fitted N data')\n",
    "#         plt.xlabel('N')\n",
    "#         plt.ylabel('M')\n",
    "#         plt.legend()\n",
    "#         plt.show()\n",
    "#     return params[ind], spins_found[ind]"
   ]
  },
  {
   "cell_type": "code",
   "execution_count": 37,
   "metadata": {
    "collapsed": true
   },
   "outputs": [],
   "source": [
    "import warnings\n",
    "import scipy.optimize as opt"
   ]
  },
  {
   "cell_type": "code",
   "execution_count": 50,
   "metadata": {
    "collapsed": false
   },
   "outputs": [],
   "source": [
    "#def spin_fit_guess(N_vals, N_data, num_spins, param_guess, error_fun = squared_error, fit_fun = spin_fit_fun):\n",
    "def sspin_fit_guess():\n",
    "    try:\n",
    "        with warnings.catch_warnings():\n",
    "            warnings.simplefilter(\"ignore\")\n",
    "            popts, pcovs = opt.curve_fit(analysis.spin_fit_fun, N_vals, N_data, p0 = p0s)\n",
    "        xs = popts[num_spins:2*num_spins]\n",
    "    #     error = error_fun(fit_fun(N_vals, *popts), N_data)\n",
    "    #     #return popts, error, np.all((xs > 0) & (xs <= 2))\n",
    "    except (RuntimeError, TypeError):\n",
    "        raise FitError(\"Failed to fit spins with N data.\")"
   ]
  },
  {
   "cell_type": "code",
   "execution_count": 51,
   "metadata": {
    "collapsed": true
   },
   "outputs": [],
   "source": [
    "%lprun -f sspin_fit_guess sspin_fit_guess()"
   ]
  },
  {
   "cell_type": "markdown",
   "metadata": {},
   "source": [
    "```\n",
    "Timer unit: 1e-06 s\n",
    "\n",
    "Total time: 0.008301 s\n",
    "File: <ipython-input-50-d7129282266a>\n",
    "Function: sspin_fit_guess at line 2\n",
    "\n",
    "Line #      Hits         Time  Per Hit   % Time  Line Contents\n",
    "==============================================================\n",
    "     2                                           def sspin_fit_guess():\n",
    "     3         1            2      2.0      0.0      try:\n",
    "     4         1           17     17.0      0.2          with warnings.catch_warnings():\n",
    "     5         1           12     12.0      0.1              warnings.simplefilter(\"ignore\")\n",
    "     6         1         8266   8266.0     99.6              popts, pcovs = opt.curve_fit(analysis.spin_fit_fun, N_vals, N_data, p0 = p0s)\n",
    "     7         1            4      4.0      0.0          xs = popts[num_spins:2*num_spins]\n",
    "     8                                               #     error = error_fun(fit_fun(N_vals, *popts), N_data)\n",
    "     9                                               #     #return popts, error, np.all((xs > 0) & (xs <= 2))\n",
    "    10                                               except (RuntimeError, TypeError):\n",
    "    11                                                   raise FitError(\"Failed to fit spins with N data.\")\n",
    "```"
   ]
  },
  {
   "cell_type": "markdown",
   "metadata": {},
   "source": [
    "Finally, within ```spin_fit_guess``` 99% of the time is taken by the ```opt.curve_fit``` function. It takes about 8000 micro seconds to make a fit."
   ]
  },
  {
   "cell_type": "code",
   "execution_count": 57,
   "metadata": {
    "collapsed": false
   },
   "outputs": [
    {
     "data": {
      "text/plain": [
       "[]"
      ]
     },
     "execution_count": 57,
     "metadata": {},
     "output_type": "execute_result"
    }
   ],
   "source": [
    "params"
   ]
  },
  {
   "cell_type": "code",
   "execution_count": 58,
   "metadata": {
    "collapsed": false,
    "scrolled": true
   },
   "outputs": [],
   "source": [
    "parameters = popts"
   ]
  },
  {
   "cell_type": "code",
   "execution_count": 64,
   "metadata": {
    "collapsed": false
   },
   "outputs": [
    {
     "data": {
      "text/plain": [
       "[]"
      ]
     },
     "execution_count": 64,
     "metadata": {},
     "output_type": "execute_result"
    }
   ],
   "source": [
    "params"
   ]
  },
  {
   "cell_type": "code",
   "execution_count": 62,
   "metadata": {
    "collapsed": false,
    "scrolled": true
   },
   "outputs": [
    {
     "data": {
      "text/plain": [
       "1.0"
      ]
     },
     "execution_count": 62,
     "metadata": {},
     "output_type": "execute_result"
    }
   ],
   "source": [
    "analysis.spin_fit_fun(N_vals, *params)"
   ]
  },
  {
   "cell_type": "code",
   "execution_count": 61,
   "metadata": {
    "collapsed": false
   },
   "outputs": [
    {
     "ename": "ValueError",
     "evalue": "x and y must have same first dimension",
     "output_type": "error",
     "traceback": [
      "\u001b[0;31m---------------------------------------------------------------------------\u001b[0m",
      "\u001b[0;31mValueError\u001b[0m                                Traceback (most recent call last)",
      "\u001b[0;32m<ipython-input-61-742994eed192>\u001b[0m in \u001b[0;36m<module>\u001b[0;34m()\u001b[0m\n\u001b[1;32m      1\u001b[0m \u001b[0mplt\u001b[0m\u001b[0;34m.\u001b[0m\u001b[0mfigure\u001b[0m\u001b[0;34m(\u001b[0m\u001b[0;34m)\u001b[0m\u001b[0;34m\u001b[0m\u001b[0m\n\u001b[1;32m      2\u001b[0m \u001b[0mplt\u001b[0m\u001b[0;34m.\u001b[0m\u001b[0mscatter\u001b[0m\u001b[0;34m(\u001b[0m\u001b[0mN_vals\u001b[0m\u001b[0;34m,\u001b[0m \u001b[0mN_data\u001b[0m\u001b[0;34m)\u001b[0m\u001b[0;34m\u001b[0m\u001b[0m\n\u001b[0;32m----> 3\u001b[0;31m \u001b[0mplt\u001b[0m\u001b[0;34m.\u001b[0m\u001b[0mplot\u001b[0m\u001b[0;34m(\u001b[0m\u001b[0mN_vals\u001b[0m\u001b[0;34m,\u001b[0m \u001b[0manalysis\u001b[0m\u001b[0;34m.\u001b[0m\u001b[0mspin_fit_fun\u001b[0m\u001b[0;34m(\u001b[0m\u001b[0mN_vals\u001b[0m\u001b[0;34m,\u001b[0m \u001b[0;34m*\u001b[0m\u001b[0mparams\u001b[0m\u001b[0;34m)\u001b[0m\u001b[0;34m,\u001b[0m \u001b[0mlabel\u001b[0m \u001b[0;34m=\u001b[0m \u001b[0;34m'fit'\u001b[0m\u001b[0;34m)\u001b[0m\u001b[0;34m\u001b[0m\u001b[0m\n\u001b[0m\u001b[1;32m      4\u001b[0m \u001b[0mplt\u001b[0m\u001b[0;34m.\u001b[0m\u001b[0mshow\u001b[0m\u001b[0;34m(\u001b[0m\u001b[0;34m)\u001b[0m\u001b[0;34m\u001b[0m\u001b[0m\n",
      "\u001b[0;32m//anaconda/lib/python2.7/site-packages/matplotlib/pyplot.pyc\u001b[0m in \u001b[0;36mplot\u001b[0;34m(*args, **kwargs)\u001b[0m\n\u001b[1;32m   3152\u001b[0m         \u001b[0max\u001b[0m\u001b[0;34m.\u001b[0m\u001b[0mhold\u001b[0m\u001b[0;34m(\u001b[0m\u001b[0mhold\u001b[0m\u001b[0;34m)\u001b[0m\u001b[0;34m\u001b[0m\u001b[0m\n\u001b[1;32m   3153\u001b[0m     \u001b[0;32mtry\u001b[0m\u001b[0;34m:\u001b[0m\u001b[0;34m\u001b[0m\u001b[0m\n\u001b[0;32m-> 3154\u001b[0;31m         \u001b[0mret\u001b[0m \u001b[0;34m=\u001b[0m \u001b[0max\u001b[0m\u001b[0;34m.\u001b[0m\u001b[0mplot\u001b[0m\u001b[0;34m(\u001b[0m\u001b[0;34m*\u001b[0m\u001b[0margs\u001b[0m\u001b[0;34m,\u001b[0m \u001b[0;34m**\u001b[0m\u001b[0mkwargs\u001b[0m\u001b[0;34m)\u001b[0m\u001b[0;34m\u001b[0m\u001b[0m\n\u001b[0m\u001b[1;32m   3155\u001b[0m     \u001b[0;32mfinally\u001b[0m\u001b[0;34m:\u001b[0m\u001b[0;34m\u001b[0m\u001b[0m\n\u001b[1;32m   3156\u001b[0m         \u001b[0max\u001b[0m\u001b[0;34m.\u001b[0m\u001b[0mhold\u001b[0m\u001b[0;34m(\u001b[0m\u001b[0mwashold\u001b[0m\u001b[0;34m)\u001b[0m\u001b[0;34m\u001b[0m\u001b[0m\n",
      "\u001b[0;32m//anaconda/lib/python2.7/site-packages/matplotlib/__init__.pyc\u001b[0m in \u001b[0;36minner\u001b[0;34m(ax, *args, **kwargs)\u001b[0m\n\u001b[1;32m   1810\u001b[0m                     warnings.warn(msg % (label_namer, func.__name__),\n\u001b[1;32m   1811\u001b[0m                                   RuntimeWarning, stacklevel=2)\n\u001b[0;32m-> 1812\u001b[0;31m             \u001b[0;32mreturn\u001b[0m \u001b[0mfunc\u001b[0m\u001b[0;34m(\u001b[0m\u001b[0max\u001b[0m\u001b[0;34m,\u001b[0m \u001b[0;34m*\u001b[0m\u001b[0margs\u001b[0m\u001b[0;34m,\u001b[0m \u001b[0;34m**\u001b[0m\u001b[0mkwargs\u001b[0m\u001b[0;34m)\u001b[0m\u001b[0;34m\u001b[0m\u001b[0m\n\u001b[0m\u001b[1;32m   1813\u001b[0m         \u001b[0mpre_doc\u001b[0m \u001b[0;34m=\u001b[0m \u001b[0minner\u001b[0m\u001b[0;34m.\u001b[0m\u001b[0m__doc__\u001b[0m\u001b[0;34m\u001b[0m\u001b[0m\n\u001b[1;32m   1814\u001b[0m         \u001b[0;32mif\u001b[0m \u001b[0mpre_doc\u001b[0m \u001b[0;32mis\u001b[0m \u001b[0mNone\u001b[0m\u001b[0;34m:\u001b[0m\u001b[0;34m\u001b[0m\u001b[0m\n",
      "\u001b[0;32m//anaconda/lib/python2.7/site-packages/matplotlib/axes/_axes.pyc\u001b[0m in \u001b[0;36mplot\u001b[0;34m(self, *args, **kwargs)\u001b[0m\n\u001b[1;32m   1422\u001b[0m             \u001b[0mkwargs\u001b[0m\u001b[0;34m[\u001b[0m\u001b[0;34m'color'\u001b[0m\u001b[0;34m]\u001b[0m \u001b[0;34m=\u001b[0m \u001b[0mc\u001b[0m\u001b[0;34m\u001b[0m\u001b[0m\n\u001b[1;32m   1423\u001b[0m \u001b[0;34m\u001b[0m\u001b[0m\n\u001b[0;32m-> 1424\u001b[0;31m         \u001b[0;32mfor\u001b[0m \u001b[0mline\u001b[0m \u001b[0;32min\u001b[0m \u001b[0mself\u001b[0m\u001b[0;34m.\u001b[0m\u001b[0m_get_lines\u001b[0m\u001b[0;34m(\u001b[0m\u001b[0;34m*\u001b[0m\u001b[0margs\u001b[0m\u001b[0;34m,\u001b[0m \u001b[0;34m**\u001b[0m\u001b[0mkwargs\u001b[0m\u001b[0;34m)\u001b[0m\u001b[0;34m:\u001b[0m\u001b[0;34m\u001b[0m\u001b[0m\n\u001b[0m\u001b[1;32m   1425\u001b[0m             \u001b[0mself\u001b[0m\u001b[0;34m.\u001b[0m\u001b[0madd_line\u001b[0m\u001b[0;34m(\u001b[0m\u001b[0mline\u001b[0m\u001b[0;34m)\u001b[0m\u001b[0;34m\u001b[0m\u001b[0m\n\u001b[1;32m   1426\u001b[0m             \u001b[0mlines\u001b[0m\u001b[0;34m.\u001b[0m\u001b[0mappend\u001b[0m\u001b[0;34m(\u001b[0m\u001b[0mline\u001b[0m\u001b[0;34m)\u001b[0m\u001b[0;34m\u001b[0m\u001b[0m\n",
      "\u001b[0;32m//anaconda/lib/python2.7/site-packages/matplotlib/axes/_base.pyc\u001b[0m in \u001b[0;36m_grab_next_args\u001b[0;34m(self, *args, **kwargs)\u001b[0m\n\u001b[1;32m    384\u001b[0m                 \u001b[0;32mreturn\u001b[0m\u001b[0;34m\u001b[0m\u001b[0m\n\u001b[1;32m    385\u001b[0m             \u001b[0;32mif\u001b[0m \u001b[0mlen\u001b[0m\u001b[0;34m(\u001b[0m\u001b[0mremaining\u001b[0m\u001b[0;34m)\u001b[0m \u001b[0;34m<=\u001b[0m \u001b[0;36m3\u001b[0m\u001b[0;34m:\u001b[0m\u001b[0;34m\u001b[0m\u001b[0m\n\u001b[0;32m--> 386\u001b[0;31m                 \u001b[0;32mfor\u001b[0m \u001b[0mseg\u001b[0m \u001b[0;32min\u001b[0m \u001b[0mself\u001b[0m\u001b[0;34m.\u001b[0m\u001b[0m_plot_args\u001b[0m\u001b[0;34m(\u001b[0m\u001b[0mremaining\u001b[0m\u001b[0;34m,\u001b[0m \u001b[0mkwargs\u001b[0m\u001b[0;34m)\u001b[0m\u001b[0;34m:\u001b[0m\u001b[0;34m\u001b[0m\u001b[0m\n\u001b[0m\u001b[1;32m    387\u001b[0m                     \u001b[0;32myield\u001b[0m \u001b[0mseg\u001b[0m\u001b[0;34m\u001b[0m\u001b[0m\n\u001b[1;32m    388\u001b[0m                 \u001b[0;32mreturn\u001b[0m\u001b[0;34m\u001b[0m\u001b[0m\n",
      "\u001b[0;32m//anaconda/lib/python2.7/site-packages/matplotlib/axes/_base.pyc\u001b[0m in \u001b[0;36m_plot_args\u001b[0;34m(self, tup, kwargs)\u001b[0m\n\u001b[1;32m    362\u001b[0m             \u001b[0mx\u001b[0m\u001b[0;34m,\u001b[0m \u001b[0my\u001b[0m \u001b[0;34m=\u001b[0m \u001b[0mindex_of\u001b[0m\u001b[0;34m(\u001b[0m\u001b[0mtup\u001b[0m\u001b[0;34m[\u001b[0m\u001b[0;34m-\u001b[0m\u001b[0;36m1\u001b[0m\u001b[0;34m]\u001b[0m\u001b[0;34m)\u001b[0m\u001b[0;34m\u001b[0m\u001b[0m\n\u001b[1;32m    363\u001b[0m \u001b[0;34m\u001b[0m\u001b[0m\n\u001b[0;32m--> 364\u001b[0;31m         \u001b[0mx\u001b[0m\u001b[0;34m,\u001b[0m \u001b[0my\u001b[0m \u001b[0;34m=\u001b[0m \u001b[0mself\u001b[0m\u001b[0;34m.\u001b[0m\u001b[0m_xy_from_xy\u001b[0m\u001b[0;34m(\u001b[0m\u001b[0mx\u001b[0m\u001b[0;34m,\u001b[0m \u001b[0my\u001b[0m\u001b[0;34m)\u001b[0m\u001b[0;34m\u001b[0m\u001b[0m\n\u001b[0m\u001b[1;32m    365\u001b[0m \u001b[0;34m\u001b[0m\u001b[0m\n\u001b[1;32m    366\u001b[0m         \u001b[0;32mif\u001b[0m \u001b[0mself\u001b[0m\u001b[0;34m.\u001b[0m\u001b[0mcommand\u001b[0m \u001b[0;34m==\u001b[0m \u001b[0;34m'plot'\u001b[0m\u001b[0;34m:\u001b[0m\u001b[0;34m\u001b[0m\u001b[0m\n",
      "\u001b[0;32m//anaconda/lib/python2.7/site-packages/matplotlib/axes/_base.pyc\u001b[0m in \u001b[0;36m_xy_from_xy\u001b[0;34m(self, x, y)\u001b[0m\n\u001b[1;32m    221\u001b[0m         \u001b[0my\u001b[0m \u001b[0;34m=\u001b[0m \u001b[0m_check_1d\u001b[0m\u001b[0;34m(\u001b[0m\u001b[0my\u001b[0m\u001b[0;34m)\u001b[0m\u001b[0;34m\u001b[0m\u001b[0m\n\u001b[1;32m    222\u001b[0m         \u001b[0;32mif\u001b[0m \u001b[0mx\u001b[0m\u001b[0;34m.\u001b[0m\u001b[0mshape\u001b[0m\u001b[0;34m[\u001b[0m\u001b[0;36m0\u001b[0m\u001b[0;34m]\u001b[0m \u001b[0;34m!=\u001b[0m \u001b[0my\u001b[0m\u001b[0;34m.\u001b[0m\u001b[0mshape\u001b[0m\u001b[0;34m[\u001b[0m\u001b[0;36m0\u001b[0m\u001b[0;34m]\u001b[0m\u001b[0;34m:\u001b[0m\u001b[0;34m\u001b[0m\u001b[0m\n\u001b[0;32m--> 223\u001b[0;31m             \u001b[0;32mraise\u001b[0m \u001b[0mValueError\u001b[0m\u001b[0;34m(\u001b[0m\u001b[0;34m\"x and y must have same first dimension\"\u001b[0m\u001b[0;34m)\u001b[0m\u001b[0;34m\u001b[0m\u001b[0m\n\u001b[0m\u001b[1;32m    224\u001b[0m         \u001b[0;32mif\u001b[0m \u001b[0mx\u001b[0m\u001b[0;34m.\u001b[0m\u001b[0mndim\u001b[0m \u001b[0;34m>\u001b[0m \u001b[0;36m2\u001b[0m \u001b[0;32mor\u001b[0m \u001b[0my\u001b[0m\u001b[0;34m.\u001b[0m\u001b[0mndim\u001b[0m \u001b[0;34m>\u001b[0m \u001b[0;36m2\u001b[0m\u001b[0;34m:\u001b[0m\u001b[0;34m\u001b[0m\u001b[0m\n\u001b[1;32m    225\u001b[0m             \u001b[0;32mraise\u001b[0m \u001b[0mValueError\u001b[0m\u001b[0;34m(\u001b[0m\u001b[0;34m\"x and y can be no greater than 2-D\"\u001b[0m\u001b[0;34m)\u001b[0m\u001b[0;34m\u001b[0m\u001b[0m\n",
      "\u001b[0;31mValueError\u001b[0m: x and y must have same first dimension"
     ]
    },
    {
     "data": {
      "image/png": "[encoded data removed]",
      "text/plain": [
       "<matplotlib.figure.Figure at 0x1117aaed0>"
      ]
     },
     "metadata": {},
     "output_type": "display_data"
    }
   ],
   "source": [
    "plt.figure()\n",
    "plt.scatter(N_vals, N_data)\n",
    "plt.plot(N_vals, analysis.spin_fit_fun(N_vals, *params), label = 'fit')\n",
    "plt.show()"
   ]
  },
  {
   "cell_type": "markdown",
   "metadata": {},
   "source": [
    "## Getting execution times and error statistics"
   ]
  },
  {
   "cell_type": "code",
   "execution_count": 65,
   "metadata": {
    "collapsed": true
   },
   "outputs": [],
   "source": [
    "B_field = 0.0403555 # Teslas\n",
    "gam_c = 67.262 * 10 ** 6 # Gyromagnetic ratio for a single c13 nucleus in rad s-1 T-1\n",
    "ms = 1\n",
    "omega_larmor = -1 * ms * gam_c * B_field"
   ]
  },
  {
   "cell_type": "code",
   "execution_count": 68,
   "metadata": {
    "collapsed": true
   },
   "outputs": [],
   "source": [
    "import time"
   ]
  },
  {
   "cell_type": "code",
   "execution_count": 72,
   "metadata": {
    "collapsed": false
   },
   "outputs": [
    {
     "data": {
      "text/plain": [
       "1494620355.984608"
      ]
     },
     "execution_count": 72,
     "metadata": {},
     "output_type": "execute_result"
    }
   ],
   "source": []
  },
  {
   "cell_type": "code",
   "execution_count": 163,
   "metadata": {
    "collapsed": false
   },
   "outputs": [],
   "source": [
    "global all_them_times\n",
    "all_them_times = []\n",
    "global all_them_errors\n",
    "all_them_errors = []"
   ]
  },
  {
   "cell_type": "code",
   "execution_count": 164,
   "metadata": {
    "collapsed": false
   },
   "outputs": [],
   "source": [
    "# %load analysis.py\n",
    "# NV-spin-tomography Michael Scheer mgscheer@gmail.com\n",
    "\n",
    "# the main code for the analysis\n",
    "\n",
    "import numpy as np\n",
    "import matplotlib.pyplot as plt\n",
    "import matplotlib.cm as cm\n",
    "import scipy.optimize as opt\n",
    "from scipy import special, fftpack, signal\n",
    "import operator, heapq, itertools, warnings\n",
    "import sklearn as sk\n",
    "import learning\n",
    "\n",
    "# frequency scale -- turns kHz into radial Hz. Used for printing paramaters nicely\n",
    "mag = 2 * np.pi * 1e3\n",
    "\n",
    "# a special error class that is thrown in this code when a fit does not work\n",
    "class FitError(Exception):\n",
    "\tdef __init__(self, value):\n",
    "\t\tself.value = value\n",
    "\tdef __str__(self):\n",
    "\t\treturn repr(self.value)\n",
    "\n",
    "# create a nice looking plot\n",
    "def initialize_data_plot(figsize = (10,5), xlims = None, ylims = [-1.05,1.05]):\n",
    "\tfig,ax = plt.subplots(figsize=figsize)\n",
    "\tax.set_ylim(ylims)\n",
    "\tif xlims is not None:\n",
    "\t\tax.set_xlim(xlims)\n",
    "\treturn fig, ax\n",
    "\n",
    "# calculates the M function for a single spin A, B\n",
    "def calc_M_single(A,B,N,omega_larmor,tau):\n",
    "\ttau = np.array(tau)\n",
    "\tomega_tilde = np.sqrt((A + omega_larmor) ** 2 + B ** 2)\n",
    "\tmx = B/omega_tilde\n",
    "\tmz = (A+omega_larmor)/omega_tilde\n",
    "\talpha = omega_tilde * tau\n",
    "\tbeta = omega_larmor * tau\n",
    "\tcos_phi = np.cos(alpha) * np.cos(beta)- mz * np.sin(alpha) * np.sin(beta)\n",
    "\tvec_num = (mx ** 2) * (1-np.cos(alpha)) * (1-np.cos(beta))\n",
    "\tvec_denom = 1.0 + cos_phi\n",
    "\tfor i in np.where(vec_denom == 0.0)[0]:\n",
    "\t\tvec_denom[i] = .0001\n",
    "\tvec_term = vec_num/vec_denom\n",
    "\tangle_term = np.sin(N * np.arccos(cos_phi) / 2.0) ** 2\n",
    "\treturn 1 - (vec_term * angle_term)\n",
    "\n",
    "# calculates the M function corresponding to many spins given by\n",
    "# A_list, B_list\n",
    "# equivalent to np.array([calc_M_single(A, B, N, omega_larmor, tau) for A, B in zip(A_list, B_list)]).prod()\n",
    "def calc_M(A_list, B_list, N, omega_larmor, tau):\n",
    "\t'''\n",
    "\tcalc_M(A_list, B_list, N, omega_larmor, tau)\n",
    "\tgives back M\n",
    "\t'''\n",
    "\treturn reduce(lambda accum, next: accum * calc_M_single(next[0], next[1], N, omega_larmor, tau), zip(A_list, B_list), 1.0)\n",
    "\n",
    "# calculates what A and B must be given the value of cos(phi) as well as omega_tilde\n",
    "def calc_A_B(cosphi, res_tau, omega_larmor, omega_tilde):\n",
    "\talpha = omega_tilde * res_tau\n",
    "\tbeta = omega_larmor * res_tau\n",
    "\tmz = (np.cos(alpha) * np.cos(beta) - cosphi)/(np.sin(alpha) * np.sin(beta))\n",
    "\tA = mz * omega_tilde - omega_larmor\n",
    "\tB = np.sqrt((1 - mz ** 2)) * omega_tilde\n",
    "\treturn A, np.abs(B)\n",
    "\n",
    "# Firm bounds on omega_tilde arising from an upper bound on hyperfine couplings\n",
    "def omega_bounds(omega_larmor, coupling_bound = 150 * mag):\n",
    "\tupper_omega_bound = omega_larmor + coupling_bound\n",
    "\tlower_omega_bound = omega_larmor - coupling_bound\n",
    "\treturn lower_omega_bound, upper_omega_bound\n",
    "\n",
    "# checks if the A, B pair has a coupling larger than coupling_bound\n",
    "def valid_A_B(A, B, coupling_bound = 150 * mag):\n",
    "\treturn A ** 2 + B ** 2 <= coupling_bound ** 2\n",
    "\n",
    "# for a real sequence y indexed by a sequence x,\n",
    "# writes y = a0 + a1 * cos(omega_0 * x) + b1 * sin(omega_0 * x) + ...\n",
    "# with omega_0 = 2 * np.pi/len(x)\n",
    "# as a \"fourier series\" (though for discrete y not continuous) and finds (very approximately)\n",
    "# the a and b coefficients.\n",
    "# coefs.real = a0, a1, a2, ...\n",
    "# coefs.imag = 0, -b1, -b2, ... (notice the negative signs)\n",
    "# see http://www.feynmanlectures.caltech.edu/I_50.html for fourier series and\n",
    "# http://docs.scipy.org/doc/scipy-0.16.1/reference/generated/scipy.fftpack.fft.html for the formula used for FFT.\n",
    "# notice the 2/N difference between the two formulas for all but the 0 frequency term.\n",
    "def sinusoid_coefs_fft(x, y):\n",
    "\tft = fftpack.fft(y)\n",
    "\tfreqs = fftpack.fftfreq(len(x), d = (x[1]-x[0])/(2*np.pi))\n",
    "\t# get rid of negative frequencies\n",
    "\tft, freqs = map(np.array, zip(*filter(lambda p: p[1] >= 0, zip(ft, freqs))))\n",
    "\tcoefs = 2.0 * np.array(ft)/len(x)\n",
    "\tcoefs[0] = .5 * coefs[0]\n",
    "\treturn coefs, freqs\n",
    "\n",
    "# given the coefs and freqs from sinusoid_coefs_fft, finds the most likely frequencies\n",
    "# present in the signal. It looks for peaks in both the real and imaginary part of the coefficients.\n",
    "# it returns a list of frequencies in decreasing order of likelihood, based on the absolute value of the\n",
    "# fourier spectrum (coefs) at that point.\n",
    "def find_peaks_from_fourier(coefs, freqs):\n",
    "\textremal_inds = signal.argrelextrema(coefs.real, np.greater)[0]\n",
    "\textremal_inds = np.r_[extremal_inds, signal.argrelextrema(coefs.real, np.less)[0]]\n",
    "\textremal_inds = np.r_[extremal_inds, signal.argrelextrema(coefs.imag, np.greater)[0]]\n",
    "\textremal_inds = np.r_[extremal_inds, signal.argrelextrema(coefs.imag, np.less)[0]]\n",
    "\textremal_inds = np.unique(extremal_inds)\n",
    "\tfreq_inds = sorted(extremal_inds, key=lambda ind: -np.abs(coefs[ind]))\n",
    "\treturn freqs[freq_inds]\n",
    "\n",
    "# takes a list of frequencies that are peaks in a fourier spectrum, either of the real\n",
    "# or imaginary part as well as a number of spins to look for. It then approximates the frequencies\n",
    "# of the underlying product cosine functions that were in the signal. See appendix C of thesis.\n",
    "def gen_freqs_from_fourier(freqs, num_spins):\n",
    "\t# sort them in decreasing order\n",
    "\tfreqs = sorted(freqs, key=lambda x:-x)\n",
    "\tif num_spins == 1: # requires 1 freq\n",
    "\t\treturn [freqs[0]]\n",
    "\telif num_spins == 2: # requires 2 freqs\n",
    "\t\tf0, f1 = freqs[:2]\n",
    "\t\treturn [.5 * (f0 + f1), .5 * (f0 - f1)]\n",
    "\telif num_spins == 3: # requires 3 freqs\n",
    "\t\tf0, f1, f2 = freqs[:3]\n",
    "\t\treturn [.5 * (f1 + f2), .5 * (f0 - f2), .5 * (f0 - f1)]\n",
    "\telif num_spins == 4: # requires 5 freqs\n",
    "\t\tphi01sum, phi2, phi3 = gen_freqs_from_fourier(freqs[:4], 3)\n",
    "\t\tf3, f4 = freqs[3:5]        \n",
    "\t\tphi0 = .5 * (f3 + f4)\n",
    "\t\tphi1 = phi01sum - phi0\n",
    "\t\treturn [phi0, phi1, phi2, phi3]\n",
    "\telse:\n",
    "\t\treturn gen_freqs_from_fourier(freqs, 4) # change this if you figure out how to do 5\n",
    "\n",
    "# the form of the signal as a function of N for a fixed tau\n",
    "def spin_fit_fun_single(N, phi, x):\n",
    "\treturn 1 - x * (np.sin(N * phi/2.0) ** 2)\n",
    "\n",
    "# the form of the signal as a function of N for a fixed tau with several spins\n",
    "# there can be any number of spins passed, in the form [phi0, phi1, ..., phin, x0, x1, ..., xn]\n",
    "# where the function for a single spin is 1 - x * (np.sin(N * phi/2.0) ** 2)\n",
    "# equivalent to np.array([single_spin_fit_fun(N, phi, x) for phi, x in zip(phis, xs)]).prod()\n",
    "def spin_fit_fun(N, *args):\n",
    "\tnum_spins = len(args)/2\n",
    "\tphis, xs = args[:num_spins], args[num_spins:2*num_spins]\n",
    "\treturn reduce(lambda accum, next: accum * spin_fit_fun_single(N, next[0], next[1]), zip(phis, xs), 1.0)\n",
    "\n",
    "# for two arrays l1 and l2 returns the squared error between them\n",
    "def squared_error(l1, l2):\n",
    "\treturn sum((l1 - l2) ** 2)\n",
    "\n",
    "# Use scipy.optimize.curve_fit to fit N_data to several spins using fit_fun. Requires a guess of the spin\n",
    "# parameters (phi's and x's) as param_guess\n",
    "def spin_fit_guess(N_vals, N_data, num_spins, param_guess, error_fun = squared_error, fit_fun = spin_fit_fun):\n",
    "\ttry:\n",
    "\t\twith warnings.catch_warnings():\n",
    "\t\t\twarnings.simplefilter(\"ignore\")\n",
    "\t\t\tpopts, pcovs = opt.curve_fit(fit_fun, N_vals, N_data, p0 = param_guess)\n",
    "\t\txs = popts[num_spins:2*num_spins]\n",
    "\t\terror = error_fun(fit_fun(N_vals, *popts), N_data)\n",
    "\t\treturn popts, error, np.all((xs > 0) & (xs <= 2))\n",
    "\texcept (RuntimeError, TypeError):\n",
    "\t\traise FitError(\"Failed to fit spins with N data.\")\n",
    "\n",
    "# fit possibly several spins using a fit_fun to N_data\n",
    "# for reference, see http://stackoverflow.com/questions/13405053/scipy-leastsq-fit-to-a-sine-wave-failing\n",
    "# and appendix C of thesis.\n",
    "def spin_fit(N_vals, N_data, error_fun = squared_error, verbose = True, plots = True, fit_fun = spin_fit_fun, extra_params = []):\n",
    "\tcoefs, freqs = sinusoid_coefs_fft(N_vals, N_data)\n",
    "\tlikely_freqs = find_peaks_from_fourier(coefs, freqs)\n",
    "\tparams, errors, spins_found, times_taken = [], [], [], []\n",
    "\t# the higest number of spins that can be fit with l frequencies\n",
    "\tdef highest_spin(l):\n",
    "\t\tif l <= 3:\n",
    "\t\t\treturn l\n",
    "\t\telif l == 4:\n",
    "\t\t\treturn 3\n",
    "\t\telse:\n",
    "\t\t\treturn 4 # make this 5 if you figure out how to do 5\n",
    "\tfor num_spins in range(1,1 + highest_spin(len(likely_freqs))):\n",
    "\t\tapprox_phis = gen_freqs_from_fourier(likely_freqs, num_spins)\n",
    "\t\tapprox_xs = num_spins * [2.0]\n",
    "\t\tp0s = approx_phis + approx_xs + extra_params[:num_spins]\n",
    "\t\ttry:\n",
    "\t\t\tstart_time = time.time()\n",
    "\t\t\tpopts, error, valid = spin_fit_guess(N_vals, N_data, num_spins, p0s, error_fun = error_fun, fit_fun = fit_fun)\n",
    "\t\t\tend_time = time.time()        \n",
    "\t\t\ttime_taken = end_time - start_time\n",
    "\t\t\tall_them_times.append(time_taken)    \n",
    "\t\t\tall_them_errors.append(error)    \n",
    "\t\t\tif valid:\n",
    "\t\t\t\tparams.append(popts)\n",
    "\t\t\t\terrors.append(error)\n",
    "\t\t\t\tspins_found.append(num_spins)\n",
    "\t\t\t\ttimes_taken.append(time_taken)\n",
    "\t\texcept FitError:\n",
    "\t\t\tpass\n",
    "\tif not params:\n",
    "\t\traise FitError(\"Failed to fit spins with N data.\")\n",
    "\telse:\n",
    "\t\tind = np.argmin(errors)\n",
    "\t\tif plots:\n",
    "\t\t\tplt.figure(figsize=(10,10))\n",
    "\t\t\tplt.plot(freqs, coefs.real, label = 'real part')\n",
    "\t\t\tplt.plot(freqs, coefs.imag, label = 'imag part')\n",
    "\t\t\tplt.title('Fourier spectrum')\n",
    "\t\t\tplt.xlabel('phi')\n",
    "\t\t\tplt.ylabel('Fourier coeficient')\n",
    "\t\t\tplt.legend()\n",
    "\t\t\tplt.show()\n",
    "\t\t\tplt.figure(figsize=(10,10))\n",
    "\t\t\tplt.plot(N_vals, N_data, '.-k', lw=0.4, label = 'data')\n",
    "\t\t\tplt.plot(N_vals, fit_fun(N_vals, *params[ind]), label = 'fit')\n",
    "\t\t\tplt.title('Fitted N data')\n",
    "\t\t\tplt.xlabel('N')\n",
    "\t\t\tplt.ylabel('M')\n",
    "\t\t\tplt.legend()\n",
    "\t\t\tplt.show()\n",
    "\t\treturn params[ind], spins_found[ind], times_taken[ind]\n",
    "\n",
    "# repeated attempts to fit N_vals and N_data using several spins. It tries subsets of the data of increasing length\n",
    "# and then uses the best result as a guess for one final fit of the whole data. See appendix C of thesis for more detail.\n",
    "def repeated_spin_fit(N_vals, N_data, error_tol, error_fun = squared_error, num_subsets = 4,\n",
    "\tfit_fun = spin_fit_fun, extra_params = [], verbose = True, plots = True):\n",
    "\tspin_fits, scaled_errors, exec_times = [], [], []\n",
    "\tfor subset in [np.arange(int(len(N_vals) * r)) for r in np.linspace(0, 1, 1 + num_subsets)[1:]]:\n",
    "\t\ttry:\n",
    "\t\t\tspin_ans = spin_fit(N_vals[subset], N_data[subset], error_fun = error_fun, fit_fun = fit_fun,extra_params = extra_params, verbose = verbose, plots = plots)\n",
    "\t\t\tfit_time = spin_ans[-1]\n",
    "\t\t\tspin_ans = spin_ans[0:2]\n",
    "\t\t\tspin_fits.append(spin_ans)\n",
    "\t\t\texec_times.append(fit_time)\n",
    "\t\t\tscaled_errors.append(1.0 * error_fun(fit_fun(N_vals, *spin_ans[0]), N_data)/len(N_vals))\n",
    "\t\texcept FitError:\n",
    "\t\t\tpass\n",
    "\tif not spin_fits:\n",
    "\t\traise FitError(\"Failed to fit spins with N data.\")\n",
    "\tmin_ind = np.argmin(scaled_errors)\n",
    "\tpopt_spin, num_spins = spin_fits[min_ind]\n",
    "\tif verbose:\n",
    "\t\tprint \"best before final pass: \", min_ind\n",
    "\t\tphis, xs = np.array(popt_spin[:num_spins]) % np.pi, np.array(popt_spin[num_spins:2*num_spins])\n",
    "\t\tphis, xs = map(np.array, zip(*sorted(zip(phis, xs), key = lambda x:-x[1])))# sort phis in decreasing order by xs\n",
    "\t\tprint \"answer before final pass: \", xs, phis\n",
    "\ttry:\n",
    "\t\tpopts, error, valid = spin_fit_guess(N_vals, N_data, num_spins, popt_spin, error_fun = error_fun, fit_fun = fit_fun)\n",
    "\t\tif valid:\n",
    "\t\t\tspin_fits.append((popts, num_spins))\n",
    "\t\t\tscaled_errors.append(1.0 * error_fun(fit_fun(N_vals, *popts), N_data)/len(N_vals))\n",
    "\t\t\tmin_ind = np.argmin(scaled_errors)\n",
    "\t\t\tpopt_spin, num_spins = spin_fits[min_ind]\n",
    "\t\tif plots:\n",
    "\t\t\tplt.figure(figsize = (10,10))\n",
    "\t\t\tplt.plot(N_vals, N_data, '.-k', lw=0.4, label = 'data')\n",
    "\t\t\tplt.plot(N_vals, fit_fun(N_vals, *popts), label = 'fit')\n",
    "\t\t\tplt.title('Fitted N data')\n",
    "\t\t\tplt.xlabel('N')\n",
    "\t\t\tplt.ylabel('M')\n",
    "\t\t\tplt.legend()\n",
    "\t\t\tplt.show()\n",
    "\texcept FitError:\n",
    "\t\tpass\n",
    "\tif verbose:\n",
    "\t\tprint \"best overall: \", min_ind\n",
    "\t\tprint scaled_errors\n",
    "\tscaled_error = scaled_errors[min_ind]\n",
    "\tphis, xs = np.array(popt_spin[:num_spins]) % np.pi, np.array(popt_spin[num_spins:2*num_spins])\n",
    "\t#phis, xs = map(np.array, zip(*sorted(zip(phis, xs), key = lambda x:-x[1])))# sort phis in decreasing order by xs\n",
    "\treturn phis, xs, scaled_error, scaled_errors, exec_times    \n",
    "\n",
    "# creates a tau vector that matches the tau from real data from Tim and Julia.\n",
    "# should be filled in with realistic tau vectors for other N in the future.\n",
    "def choose_tau_params(N, num_samples = 5100):\n",
    "\tif N != 64:\n",
    "\t\traise FitError(\"N should be 64\")\n",
    "\telse:\n",
    "\t\tmin_tau = 3.0000000000000001e-06\n",
    "\t\tmax_tau = 2.1999999999999999e-05\n",
    "\t\tlength = num_samples\n",
    "\t\ttau = np.linspace(min_tau, max_tau, length)\n",
    "\t\treturn tau\n",
    "\n",
    "# finds local minima in the vector data as well as the intervals in which they are minima.\n",
    "# only finds dips below fit_dips_below and less wide than max_width if the parameters are not None.\n",
    "def find_resonances(data, fit_dips_below = None, max_width = None):\n",
    "\tmin_inds = (signal.argrelextrema(data, np.less)[0]).astype(int)\n",
    "\tmax_inds = (signal.argrelextrema(data, np.greater)[0]).astype(int)\n",
    "\twidths = max_inds[1:] - max_inds[:-1]\n",
    "\tdip_inds = min_inds[1:] if min_inds[0] < max_inds[0] else min_inds[:-1]\n",
    "\twindows = [(max_inds[i], max_inds[i+1]) for i in range(len(dip_inds)-1)] # should this be 3?\n",
    "\t# a dip must go below fit_dips_below, unless fit_dips_below = None and it's width should be at most max_width unless max_width = None\n",
    "\tfilter_fun = lambda p: ((data[p[0]] < fit_dips_below) if (fit_dips_below != None) else True) and (p[1] <= max_width if max_width != None else True)\n",
    "\tdip_inds, widths, windows = map(np.array, zip(*filter(filter_fun, zip(dip_inds, widths, windows))))\n",
    "\t# sort by width\n",
    "\t# sort_inds = np.argsort(-1 * widths)\n",
    "\t# return dip_inds[sort_inds], windows[sort_inds]\n",
    "\treturn dip_inds, windows\n",
    "\n",
    "# Calculates all possible omega_tilde values for a given phi and x at a given res_tau.\n",
    "# See chapter 4 of thesis.\n",
    "def calc_omega_tilde(phi, x, res_tau, omega_larmor):\n",
    "\tbeta = omega_larmor * res_tau\n",
    "\tcosbeta, cosphi_0 = np.cos(beta), np.cos(phi)\n",
    "\tlower_omega_bound, upper_omega_bound = omega_bounds(omega_larmor)\n",
    "\tomega_cosphi = []\n",
    "\tfor cosphi in [cosphi_0, -cosphi_0]:\n",
    "\t\tprod = x * (1+cosbeta) * (1+cosphi)\n",
    "\t\tcoeff = [1, prod - 2 * cosbeta * cosphi, prod + cosbeta ** 2 + cosphi ** 2 - 1]\n",
    "\t\tif coeff[1] ** 2 - 4 * coeff[0] * coeff[2] >= 0: # discriminant is nonnegative\n",
    "\t\t\tcosalphas = np.roots(coeff)\n",
    "\t\t\tfor cosalpha in filter(lambda x: np.abs(x) <= 1, cosalphas):\n",
    "\t\t\t\talpha_0_pi = np.arccos(cosalpha)\n",
    "\t\t\t\tfor alpha_base in [alpha_0_pi, 2 * np.pi - alpha_0_pi]:\n",
    "\t\t\t\t\tlower_int = int(np.ceil((lower_omega_bound * res_tau - alpha_base)/(2 * np.pi)))\n",
    "\t\t\t\t\tupper_int = int(np.floor((upper_omega_bound * res_tau - alpha_base)/(2 * np.pi)))\n",
    "\t\t\t\t\tfor n in range(lower_int, upper_int + 1):\n",
    "\t\t\t\t\t\tomega_cosphi.append(((alpha_base + 2 * np.pi * n)/res_tau, cosphi))\n",
    "\treturn omega_cosphi\n",
    "\n",
    "# for a given dip_ind, measures N data and fits it using repeated_spin_fit. If the fit error is less than error_tol,\n",
    "# it finds all possible A and B values for each fit spin. Each possible A and B value that is within the bounds (is_valid)\n",
    "# is added to spin_dict.\n",
    "def analyze_dip(dip_ind, tau, data_func, omega_larmor, spin_dict = {}, error_tol = .1/64,\n",
    "\t\t\t\tN_vals = np.arange(0,256,2), error_fun = squared_error, fit_fun = spin_fit_fun, extra_params = [],\n",
    "\t\t\t\tnum_subsets = 4, verbose = False, plots = False):\n",
    "\tres_tau = tau[dip_ind]\n",
    "\tN_data = data_func(N_vals, res_tau)\n",
    "\ttry:\n",
    "\t\tphis, xs, scaled_error = repeated_spin_fit(N_vals, N_data, error_fun = error_fun, fit_fun = fit_fun, extra_params = extra_params,\n",
    "\t\t\tnum_subsets = num_subsets, verbose = verbose, plots = plots)\n",
    "\texcept FitError:\n",
    "\t\tif verbose:\n",
    "\t\t\tprint \"Failed to fit spins with N data.\"\n",
    "\t\treturn spin_dict\n",
    "\tif verbose:\n",
    "\t\tprint \"res_tau: \", res_tau\n",
    "\t\tprint \"scaled_error <= error_tol: \", scaled_error <= error_tol\n",
    "\t\tprint \"scaled_error: \", scaled_error\n",
    "\t\tphis, xs = map(np.array, zip(*sorted(zip(phis, xs), key = lambda x:-x[1])))# sort phis in decreasing order by xs\n",
    "\t\tprint \"xs, phis, scaled_error: \", xs, phis, scaled_error\n",
    "\tif scaled_error > error_tol:\n",
    "\t\treturn spin_dict\n",
    "\tfor phi, x in zip(phis, xs):\n",
    "\t\tfor omega_tilde, cosphi in calc_omega_tilde(phi, x, res_tau, omega_larmor): # all the possible omegas with their associated cosphis\n",
    "\t\t\tA, B = calc_A_B(cosphi, res_tau, omega_larmor, omega_tilde)\n",
    "\t\t\tif valid_A_B(A, B):\n",
    "\t\t\t\tif (dip_ind, phi, x) in spin_dict:\n",
    "\t\t\t\t\tspin_dict[(dip_ind, phi, x)] += [(A, B, cosphi)]\n",
    "\t\t\t\telse:\n",
    "\t\t\t\t\tspin_dict[(dip_ind, phi, x)] = [(A, B, cosphi)]\n",
    "\treturn spin_dict\n",
    "\n",
    "# takes in a dict of the type returned by analyze_dip and for each entry which represents a particular spin found at a particular dip\n",
    "# it chooses the A, B value that minimizes the error_fun from the tau data. It returns these A and B guesses along with the calculated errors.\n",
    "def choose_spin_guesses(spin_dict, N, omega_larmor, tau, data, classifier, x_min = 1, error_fun = squared_error):\n",
    "\tguess_As, guess_Bs, dataerrs = [], [], []\n",
    "\tall_guess_As, all_guess_Bs, select_As, select_Bs = [], [], [], []\n",
    "\tfor k in spin_dict.keys():\n",
    "\t\terr = []\n",
    "\t\tfor A, B, _ in spin_dict[k]:\n",
    "\t\t\tall_guess_As.append(A)\n",
    "\t\t\tall_guess_Bs.append(B)\n",
    "\t\t\terr.append(error_fun(calc_M_single(A, B, N, omega_larmor, tau), data))\n",
    "\t\tmin_err_ind = np.argmin(err)\n",
    "\t\tbest_A, best_B, best_cosphi = spin_dict[k][min_err_ind]\n",
    "\t\tselect_As.append(best_A)\n",
    "\t\tselect_Bs.append(best_B)\n",
    "\t\tbest_err = err[min_err_ind]\n",
    "\t\t_, _, x = k\n",
    "\t\tfeatures = [best_cosphi, x, best_A, best_B, best_err]\n",
    "\t\tif classifier(features) and x >= x_min:\n",
    "\t\t\tguess_As.append(best_A)\n",
    "\t\t\tguess_Bs.append(best_B)\n",
    "\t\t\tdataerrs.append(best_err)\n",
    "\treturn (np.array(guess_As), np.array(guess_Bs), np.array(dataerrs),\n",
    "\t\tnp.array(all_guess_As), np.array(all_guess_Bs), np.array(select_As), np.array(select_Bs))\n",
    "\n",
    "# given guesses for As and Bs, clusters these guesses using the DBSCAN algorithm.\n",
    "# for info about DBSCAN see http://scikit-learn.org/stable/modules/generated/sklearn.cluster.DBSCAN.html\n",
    "# for info about clustering with sklearn see http://scikit-learn.org/stable/modules/clustering.html#clustering\n",
    "def cluster_spin_guesses(guess_As, guess_Bs, dataerrs, eps = .075, min_samples = 1):\n",
    "\tX = sk.preprocessing.StandardScaler().fit_transform(zip(guess_As, guess_Bs)) # possibly need to be lists?\n",
    "\tdb = sk.cluster.DBSCAN(eps = eps, min_samples = min_samples).fit(X)\n",
    "\tlabels = db.labels_\n",
    "\tcluster_As, cluster_Bs, cluster_dataerrs = [], [], []\n",
    "\tfor k in np.unique(labels):\n",
    "\t\tif k >= 0:\n",
    "\t\t\tlabel_inds = np.where(labels == k)[0]\n",
    "\t\t\tbest_guess = np.argmin(dataerrs[label_inds])\n",
    "\t\t\tcluster_As.append(guess_As[label_inds][best_guess])\n",
    "\t\t\tcluster_Bs.append(guess_Bs[label_inds][best_guess])\n",
    "\t\t\tcluster_dataerrs.append(dataerrs[label_inds][best_guess])\n",
    "\treturn np.array(cluster_As), np.array(cluster_Bs), np.array(cluster_dataerrs)\n",
    "\n",
    "# an approximation of the background due to the weakly coupled spins\n",
    "#A_background = 4 * mag * (np.random.rand(400) - .5)\n",
    "#B_background = 2 * mag * (np.random.rand(400))\n",
    "#background_dict = {\"A_background\" : A_background, \"B_background\" : B_background}\n",
    "#learning.store_obj(background_dict, \"background_A_B\")\n",
    "background_dict = learning.load_obj(\"background_A_B\")\n",
    "A_background, B_background = background_dict[\"A_background\"], background_dict[\"B_background\"]\n",
    "\n",
    "# given guess_As and guess_Bs, this function considers all ways of removing num_remove spins from the guess list\n",
    "# it compares all of these possibilities along with not taking anything out in terms of the error from this subset to the data\n",
    "# the error function considers the spins along with 400 weakly coupled spins which approximates the background.\n",
    "# it returns the optimal subset as well as a number to remove next time: the same number if a spin was removed, otherwise the number\n",
    "# considered for removal this time plus one (considering taking several out at the same time)\n",
    "def remove_spins(guess_As, guess_Bs, N, omega_larmor, tau, data, num_remove = 1, error_fun = squared_error, verbose = False):\n",
    "\t# creates all subsets of s with size between lower and upper\n",
    "\tdef subset_size_range(s, lower, upper):\n",
    "\t\tans = []\n",
    "\t\tfor i in range(lower, upper+1):\n",
    "\t\t\tfor j in itertools.combinations(s, i):\n",
    "\t\t\t\tans.append(j)\n",
    "\t\treturn ans\n",
    "\tguess_As, guess_Bs = np.array(guess_As), np.array(guess_Bs)\n",
    "\tM_background = calc_M(A_background, B_background, N, omega_larmor, tau)\n",
    "\terr, As, Bs = [], [], []\n",
    "\tfor subset in subset_size_range(range(len(guess_As)), len(guess_As) - num_remove, len(guess_As) - 1):\n",
    "\t\tsubset = np.array(subset)\n",
    "\t\terr.append(error_fun(M_background * calc_M(guess_As[subset], guess_Bs[subset], N, omega_larmor, tau), data))\n",
    "\t\tAs.append(guess_As[subset])\n",
    "\t\tBs.append(guess_Bs[subset])\n",
    "\tbest_ind = np.argmin(err)\n",
    "\torig_error = error_fun(M_background * calc_M(guess_As, guess_Bs, N, omega_larmor, tau), data)\n",
    "\tif verbose:\n",
    "\t\tprint \"new error, old error: \", err[best_ind], orig_error\n",
    "\tif orig_error > err[best_ind]:\n",
    "\t\treturn As[best_ind], Bs[best_ind], num_remove\n",
    "\telse:\n",
    "\t\treturn guess_As, guess_Bs, num_remove + 1\n",
    "\n",
    "# given a data function data_func(N, tau) that represents a diamond, returns an estimation\n",
    "# of the hyperfine couplings of many c13s. The function returns, in order\n",
    "# the final estimation, the total set of estimated parameters, the set remaining after using least squares,\n",
    "# the set remaining after applying the classifier, and then the set after applying clustering. See chapter 4 of thesis.\n",
    "def analyze_diamond(data_func, N, omega_larmor, kernel = \"rbf\", verbose = False, plots = False):\n",
    "\ttau = choose_tau_params(N)\n",
    "\tdata = data_func(N, tau)\n",
    "\tdip_inds, windows = find_resonances(data, fit_dips_below = None)\n",
    "\tlower_ind_cutoff = 3220 # corresponds to 15 microseconds\n",
    "\tif verbose:\n",
    "\t\tprint \"number of dips to measure: \", sum(dip_inds >= lower_ind_cutoff)\n",
    "\tspin_dict = {}\n",
    "\tfor dip_ind in dip_inds:\n",
    "\t\tif dip_ind >= lower_ind_cutoff: # 15 microseconds and on\n",
    "\t\t\tspin_dict = analyze_dip(dip_ind, tau, data_func, omega_larmor, spin_dict, N_vals = np.arange(0,256,2),\n",
    "\t\t\t\terror_tol = .1/64, verbose = verbose, plots = plots)\n",
    "\t# load the classifiers\n",
    "\tguess_scaler = learning.load_obj(\"classifiers/scaler_svm_\" + kernel + \"_di3220_29diamonds_cxABe\")\n",
    "\tguess_clf = learning.load_obj(\"classifiers/clf_svm_\" + kernel + \"_di3220_29diamonds_cxABe\")\n",
    "\tdef guess_classifier(features):\n",
    "\t\treturn guess_clf.predict(guess_scaler.transform([features]))\n",
    "\tguess_As, guess_Bs, dataerrs, all_guess_As, all_guess_Bs, select_As, select_Bs = choose_spin_guesses(spin_dict, N, omega_larmor, tau, data, guess_classifier, x_min = 1, error_fun = squared_error)\n",
    "\tcluster_As, cluster_Bs, cluster_dataerrs = cluster_spin_guesses(guess_As, guess_Bs, dataerrs, eps = .075, min_samples = 1)\n",
    "\tAs, Bs, num_remove = cluster_As, cluster_Bs, 1\n",
    "\twhile num_remove <= 2:\n",
    "\t\tAs, Bs, num_remove = remove_spins(As, Bs, N, omega_larmor, tau, data, num_remove = num_remove, error_fun = squared_error, verbose=verbose)\n",
    "\treturn As, Bs, all_guess_As, all_guess_Bs, select_As, select_Bs, guess_As, guess_Bs, cluster_As, cluster_Bs"
   ]
  },
  {
   "cell_type": "code",
   "execution_count": 165,
   "metadata": {
    "collapsed": false
   },
   "outputs": [],
   "source": [
    "# %load learning.py\n",
    "# NV-spin-tomography Michael Scheer mgscheer@gmail.com\n",
    "\n",
    "# Creating datasets and training classifiers, storing objects on disk\n",
    "\n",
    "import numpy as np\n",
    "import sklearn as sk\n",
    "from sklearn import svm, preprocessing, cross_validation, cluster, metrics\n",
    "from sklearn.ensemble import ExtraTreesClassifier\n",
    "from sklearn.externals import joblib\n",
    "import analysis\n",
    "import NV_generator\n",
    "import pickle\n",
    "\n",
    "# store an object in a file\n",
    "def store_obj(obj, fname):\n",
    "\tjoblib.dump(obj, fname + \".pkl\")\n",
    "\n",
    "def store_obj_2(obj, fname):\n",
    "\tpickle.dump(obj, open(fname + \".pkl\",'wb'))\n",
    "\n",
    "# load an object from a file\n",
    "def load_obj(fname):\n",
    "\treturn joblib.load(fname + \".pkl\")\n",
    "\n",
    "def load_obj_2(fname):\n",
    "\treturn pickle.load(open(fname + \".pkl\",'rb'))\n",
    "\n",
    "# decides if a fitted A and B are close enough to a spin to be counted as a fit.\n",
    "# the B tends to be harder to fit so the accuracy demanded is less.\n",
    "def is_fit(fitted_A, fitted_B, spin, A_acc = .1, B_acc = .5):\n",
    "\tA_acc = mag * A_acc\n",
    "\tB_acc= mag * B_acc\n",
    "\treturn ((spin[0] >= fitted_A - A_acc) and (spin[0] <= fitted_A + A_acc) and\n",
    "\t\t(spin[1] >= fitted_B - B_acc) and (spin[1] <= fitted_B + B_acc))\n",
    "\n",
    "# creates a dataset of diamonds with N measurements already analyzed, saves it to disk\n",
    "def create_diamonds(diamond_num_list, omega_larmor, num_spins = 450):\n",
    "\tverbose, plots = False, False\n",
    "\tnum_subsets = 4\n",
    "\terror_fun = squared_error\n",
    "\terror_tol = .1/64\n",
    "\tN = 64\n",
    "\tN_vals = np.arange(0, 256, 2)\n",
    "\ttau = choose_tau_params(N)\n",
    "\tall_scaled_errors = []\n",
    "\tall_exec_times = []\n",
    "\tfor diamond_num in diamond_num_list:\n",
    "\t\tprint \"diamond_num: \", diamond_num\n",
    "\t\tA, B, r, costheta, sintheta = NV_generator.generate_spins(num_spins)\n",
    "\t\tdef data_func(N, tau, noise_level = .02):\n",
    "\t\t\tdata = calc_M(A, B, N, omega_larmor, tau)\n",
    "\t\t\tnoise = np.random.randn(len(data)) * noise_level\n",
    "\t\t\treturn data + noise\n",
    "\t\tdata = data_func(N, tau)\n",
    "\t\tdip_inds, windows = find_resonances(data, fit_dips_below = None)\n",
    "\t\tsuccessful_fits, good_fits, phis_list, xs_list, scaled_errors = [], [], [], [], []\n",
    "\t\tprint \"number of dips: \", len(dip_inds)\n",
    "\t\tfor dii in range(len(dip_inds)):\n",
    "\t\t\tif dii%50==0:\n",
    "\t\t\t\tprint \"dii: \", dii\n",
    "\t\t\tdip_ind = dip_inds[dii]\n",
    "\t\t\tres_tau = tau[dip_ind]\n",
    "\t\t\tN_data = data_func(N_vals, res_tau)\n",
    "\t\t\tsuccessful_fit, good_fit = True, True # did the fit succeed without throwing an error? was the error in the fit small enough?\n",
    "\t\t\ttry:\n",
    "\t\t\t\tphis, xs, scaled_error, allerrors, alltimes = repeated_spin_fit(N_vals, N_data, error_tol = error_tol, error_fun = error_fun, num_subsets = num_subsets, verbose = verbose, plots = plots)\n",
    "\t\t\t\tgood_fit = scaled_error <= error_tol\n",
    "\t\t\t\tall_scaled_errors.append(allerrors)\n",
    "\t\t\t\tall_exec_times.append(alltimes)\n",
    "\t\t\texcept FitError:\n",
    "\t\t\t\tsuccessful_fit, good_fit = False, False\n",
    "\t\t\t\tphis, xs = None, None\n",
    "\t\t\t\tscaled_error = None\n",
    "\t\t\tsuccessful_fits.append(successful_fit)\n",
    "\t\t\tgood_fits.append(good_fit)\n",
    "\t\t\tphis_list.append(phis)\n",
    "\t\t\txs_list.append(xs)\n",
    "\t\t\tscaled_errors.append(scaled_errors)\n",
    "\t\tprint \"create diamond_dict\"\n",
    "\t\tdiamond_dict = {\"A\" : A, \"B\" : B, \"r\" : r, \"costheta\" : costheta, \"sintheta\" : sintheta, \"N\" : N,\n",
    "\t\t\t\"tau\" : tau, \"data\" : data, \"N_vals\" : N_vals, \"N_data\" : N_data, \"dip_inds\" : dip_inds, \"windows\" : windows,\n",
    "\t\t\t\"successful_fits\" : successful_fits, \"good_fits\" : good_fits, \"error_tol\" : error_tol, \"num_subsets\" : num_subsets,\n",
    "\t\t\t\"phis_list\" : phis_list, \"xs_list\" : xs_list, \"scaled_errors\" : scaled_errors}\n",
    "\t\t#print \"store diamond_dict\"\n",
    "\t\t#store_obj_2(diamond_dict, \"diamonds/diamond_\" + str(diamond_num))\n",
    "\t\treturn all_scaled_errors, all_exec_times\n",
    "\n",
    "# train and optionally save a support vector machine classifier\n",
    "# scaler preprocesses the data (scales it) and clf is the classifier\n",
    "def train_svm(train_X, train_Y, test_X, test_Y, kernel = 'rbf', C=1.0, verbose = False, pickle = False, suffix = \"\"):\n",
    "\tscaler = sk.preprocessing.StandardScaler().fit(train_X)\n",
    "\tclf = sk.svm.SVC(kernel = kernel, C=C)# svm with rbf kernel (default)\n",
    "\tclf.fit(scaler.transform(train_X), train_Y)\n",
    "\tif verbose:\n",
    "\t\tprint \"training score: \", clf.score(scaler.transform(train_X), train_Y)\n",
    "\t\tprint \"testing score: \", clf.score(scaler.transform(test_X), test_Y)\n",
    "\tif pickle:\n",
    "\t\tstore_obj(scaler, \"classifiers/scaler_svm_\" + kernel + suffix)\n",
    "\t\tstore_obj(clf, \"classifiers/clf_svm_\" + kernel + suffix)\n",
    "\treturn scaler, clf\n",
    "\n",
    "# train and optionally save an extra-trees classifier\n",
    "# scaler preprocesses the data (scales it) and clf is the classifier\n",
    "def train_trees(train_X, train_Y, test_X, test_Y, verbose = False, pickle = False, suffix = \"\"):\n",
    "\tscaler = sk.preprocessing.StandardScaler().fit(train_X)\n",
    "\tclf = sk.ensemble.ExtraTreesClassifier(n_estimators=10, max_depth=None, min_samples_split=1, random_state=0)\n",
    "\tclf.fit(scaler.transform(train_X), train_Y)\n",
    "\tif verbose:\n",
    "\t\tprint \"training score: \", clf.score(scaler.transform(train_X), train_Y)\n",
    "\t\tprint \"testing score: \", clf.score(scaler.transform(test_X), test_Y)\n",
    "\tif pickle:\n",
    "\t\tstore_obj(scaler, \"classifiers/scaler_trees\" + suffix)\n",
    "\t\tstore_obj(clf, \"classifiers/clf_trees\" + suffix)\n",
    "\treturn scaler, clf\n",
    "\n",
    "# creates and optionally saves the dataset used to train the SVM which classifies guesses.\n",
    "def guess_dataset(diamonds, omega_larmor, min_dip_ind = 3220, training_percent = .75, pickle = False, suffix = \"\"):\n",
    "\ttrain_X = [] # feature vectors\n",
    "\ttrain_Y = [] # classifications\n",
    "\ttest_X = []\n",
    "\ttest_Y = []\n",
    "\terror_fun = squared_error\n",
    "\tfor diamond_ind in range(len(diamonds)):\n",
    "\t\tprint \"diamond_ind: \", diamond_ind\n",
    "\t\tdiamond = diamonds[diamond_ind]\n",
    "\t\ttau = diamond[\"tau\"]\n",
    "\t\tdata = diamond[\"data\"]\n",
    "\t\tN = diamond[\"N\"]\n",
    "\t\tdip_inds = diamond[\"dip_inds\"] # the indices for the dips\n",
    "\t\twindows = diamond[\"windows\"] # where was this used?\n",
    "\t\tspin_dict = {} # The keys to the dictionary will be a tuple (dip_ind, phi, x)\n",
    "\t\tfor dii in range(len(dip_inds)):\n",
    "\t\t\tif diamond[\"good_fits\"][dii] and dip_inds[dii] >= min_dip_ind:\n",
    "\t\t\t\tdip_ind = dip_inds[dii]\n",
    "\t\t\t\tres_tau = tau[dip_ind]\n",
    "\t\t\t\tfor phi, x in zip(diamond[\"phis_list\"][dii], diamond[\"xs_list\"][dii]):\n",
    "\t\t\t\t\tfor omega_tilde, cosphi in calc_omega_tilde(phi, x, res_tau, omega_larmor):\n",
    "\t\t\t\t\t\tA, B = calc_A_B(cosphi, res_tau, omega_larmor, omega_tilde)\n",
    "\t\t\t\t\t\tif valid_A_B(A, B): # this checks for the upper bound imposed on (A,B)\n",
    "\t\t\t\t\t\t\tif (dip_ind, phi, x) in spin_dict: # if (dip_ind,phi,x) is already a key in the dictionary then add another value to the list that corresponds to it\n",
    "\t\t\t\t\t\t\t\tspin_dict[(dip_ind, phi, x)] += [(A, B, cosphi)]\n",
    "\t\t\t\t\t\t\telse: # if it is not, then simply initialize the list with the corresponding tuple\n",
    "\t\t\t\t\t\t\t\tspin_dict[(dip_ind, phi, x)] = [(A, B, cosphi)]\n",
    "\t\tfor k in spin_dict.keys(): #now iterate through they dictionary's keys\n",
    "\t\t\terr = []\n",
    "\t\t\tfor A, B, _ in spin_dict[k]:\n",
    "\t\t\t\terr.append(error_fun(calc_M_single(A, B, N, omega_larmor, tau), data)) # calculate the errors from assuming data only comes from a single spin\n",
    "\t\t\tmin_err_ind = np.argmin(err)\n",
    "\t\t\tbest_A, best_B, best_cosphi = spin_dict[k][min_err_ind]\n",
    "\t\t\tbest_err = err[min_err_ind]\n",
    "\t\t\t_, _, x = k \n",
    "\t\t\tfeatures = [best_cosphi, x, best_A, best_B, best_err] # this is the feature vector\n",
    "\t\t\ttag = 0\n",
    "\t\t\tfor spin in set(zip(diamond[\"A\"], np.abs(diamond[\"B\"]))): #iterate through the true spins in the diamond\n",
    "\t\t\t\tif is_fit(best_A, best_B, spin, A_acc = .5, B_acc = 2): # arbitrary thresholds over here\n",
    "\t\t\t\t\ttag = 1 # best_A and best_B have been found to correspond to a one of the true spins\n",
    "\t\t\t\t\tbreak\n",
    "\t\t\tif diamond_ind < training_percent * len(diamonds): # first diamonds for the training set\n",
    "\t\t\t\ttrain_X.append(features)\n",
    "\t\t\t\ttrain_Y.append(tag)\n",
    "\t\t\telse: # the other ones for the test set\n",
    "\t\t\t\ttest_X.append(features)\n",
    "\t\t\t\ttest_Y.append(tag)\n",
    "\tif pickle:\n",
    "\t\tprint \"create dataset\"\n",
    "\t\tdataset = {\"train_X\" : train_X, \"train_Y\" : train_Y, \"test_X\" : test_X, \"test_Y\" : test_Y}\n",
    "\t\tprint \"store dataset\"\n",
    "\t\tstore_obj(dataset, \"datasets/guess_dataset\" + suffix)\n",
    "\treturn train_X, train_Y, test_X, test_Y\n",
    "\n"
   ]
  },
  {
   "cell_type": "code",
   "execution_count": 166,
   "metadata": {
    "collapsed": false
   },
   "outputs": [
    {
     "data": {
      "text/plain": [
       "1114"
      ]
     },
     "execution_count": 166,
     "metadata": {},
     "output_type": "execute_result"
    }
   ],
   "source": [
    "len(error_sample)"
   ]
  },
  {
   "cell_type": "code",
   "execution_count": 167,
   "metadata": {
    "collapsed": false
   },
   "outputs": [
    {
     "data": {
      "text/plain": [
       "1114"
      ]
     },
     "execution_count": 167,
     "metadata": {},
     "output_type": "execute_result"
    }
   ],
   "source": [
    "len(times_sample)"
   ]
  },
  {
   "cell_type": "code",
   "execution_count": 168,
   "metadata": {
    "collapsed": false
   },
   "outputs": [
    {
     "name": "stdout",
     "output_type": "stream",
     "text": [
      "diamond_num:  0\n",
      "number of dips:  1345\n",
      "dii:  0\n",
      "dii:  50\n",
      "dii:  100\n",
      "dii:  150\n",
      "dii:  200\n",
      "dii:  250\n",
      "dii:  300\n",
      "dii:  350\n",
      "dii:  400\n",
      "dii:  450\n",
      "dii:  500\n",
      "dii:  550\n",
      "dii:  600\n",
      "dii:  650\n",
      "dii:  700\n",
      "dii:  750\n",
      "dii:  800\n",
      "dii:  850\n",
      "dii:  900\n",
      "dii:  950\n",
      "dii:  1000\n",
      "dii:  1050\n",
      "dii:  1100\n",
      "dii:  1150\n",
      "dii:  1200\n",
      "dii:  1250\n",
      "dii:  1300\n",
      "create diamond_dict\n"
     ]
    }
   ],
   "source": [
    "error_sample, times_sample = create_diamonds([0],omega_larmor)"
   ]
  },
  {
   "cell_type": "code",
   "execution_count": null,
   "metadata": {
    "collapsed": false
   },
   "outputs": [],
   "source": [
    "times_sample[0]"
   ]
  },
  {
   "cell_type": "code",
   "execution_count": null,
   "metadata": {
    "collapsed": false
   },
   "outputs": [],
   "source": [
    "error_sample_array=np.hstack(error_sample)\n",
    "time_sample_array=np.hstack(times_sample)"
   ]
  },
  {
   "cell_type": "code",
   "execution_count": 159,
   "metadata": {
    "collapsed": false
   },
   "outputs": [
    {
     "data": {
      "text/plain": [
       "4195"
      ]
     },
     "execution_count": 159,
     "metadata": {},
     "output_type": "execute_result"
    }
   ],
   "source": [
    "len(time_sample_array)"
   ]
  },
  {
   "cell_type": "code",
   "execution_count": 160,
   "metadata": {
    "collapsed": false
   },
   "outputs": [
    {
     "data": {
      "text/plain": [
       "[0.0017286134611123117,\n",
       " 0.024920408565265156,\n",
       " 0.024271036854969175,\n",
       " 0.021671141595599564,\n",
       " 0.0014699838564238017]"
      ]
     },
     "execution_count": 160,
     "metadata": {},
     "output_type": "execute_result"
    }
   ],
   "source": [
    "np.array(error_sample)[0]"
   ]
  },
  {
   "cell_type": "code",
   "execution_count": 161,
   "metadata": {
    "collapsed": false
   },
   "outputs": [
    {
     "data": {
      "text/plain": [
       "5276"
      ]
     },
     "execution_count": 161,
     "metadata": {},
     "output_type": "execute_result"
    }
   ],
   "source": [
    "len(error_sample_array)"
   ]
  },
  {
   "cell_type": "code",
   "execution_count": 105,
   "metadata": {
    "collapsed": false
   },
   "outputs": [
    {
     "data": {
      "text/plain": [
       "[0.0017286134611123117,\n",
       " 0.024920408565265156,\n",
       " 0.024271036854969175,\n",
       " 0.021671141595599564,\n",
       " 0.0014699838564238017]"
      ]
     },
     "execution_count": 105,
     "metadata": {},
     "output_type": "execute_result"
    }
   ],
   "source": [
    "error_sample_array[0]"
   ]
  },
  {
   "cell_type": "code",
   "execution_count": 171,
   "metadata": {
    "collapsed": false
   },
   "outputs": [
    {
     "data": {
      "text/plain": [
       "17981"
      ]
     },
     "execution_count": 171,
     "metadata": {},
     "output_type": "execute_result"
    }
   ],
   "source": [
    "len(all_them_times)\n",
    "len(all_them_errors)"
   ]
  },
  {
   "cell_type": "code",
   "execution_count": 142,
   "metadata": {
    "collapsed": false
   },
   "outputs": [
    {
     "data": {
      "image/png": "[encoded data removed]",
      "text/plain": [
       "<matplotlib.figure.Figure at 0x11303d7d0>"
      ]
     },
     "metadata": {},
     "output_type": "display_data"
    }
   ],
   "source": [
    "plt.figure()\n",
    "plt.hist(time_sample_array,bins=50)\n",
    "plt.show()"
   ]
  },
  {
   "cell_type": "code",
   "execution_count": 175,
   "metadata": {
    "collapsed": false
   },
   "outputs": [
    {
     "data": {
      "image/png": "[encoded data removed]",
      "text/plain": [
       "<matplotlib.figure.Figure at 0x113008e10>"
      ]
     },
     "metadata": {},
     "output_type": "display_data"
    }
   ],
   "source": [
    "plt.figure()\n",
    "plt.plot(np.log(np.array(all_them_times)),np.log(np.array(all_them_errors)),'o')\n",
    "plt.show()"
   ]
  },
  {
   "cell_type": "code",
   "execution_count": null,
   "metadata": {
    "collapsed": true
   },
   "outputs": [],
   "source": [
    "if False: # In here one would create new diamond datasets.\n",
    "    learning.create_diamonds([20], omega_larmor, num_spins = 450)"
   ]
  }
 ],
 "metadata": {
  "kernelspec": {
   "display_name": "Python 2",
   "language": "python",
   "name": "python2"
  },
  "language_info": {
   "codemirror_mode": {
    "name": "ipython",
    "version": 2
   },
   "file_extension": ".py",
   "mimetype": "text/x-python",
   "name": "python",
   "nbconvert_exporter": "python",
   "pygments_lexer": "ipython2",
   "version": "2.7.12"
  }
 },
 "nbformat": 4,
 "nbformat_minor": 2
}
